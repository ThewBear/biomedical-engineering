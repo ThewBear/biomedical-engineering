{
  "nbformat": 4,
  "nbformat_minor": 0,
  "metadata": {
    "colab": {
      "name": "gencode_bin_classification.ipynb",
      "provenance": [],
      "collapsed_sections": []
    },
    "kernelspec": {
      "name": "python3",
      "display_name": "Python 3"
    },
    "accelerator": "GPU"
  },
  "cells": [
    {
      "cell_type": "code",
      "metadata": {
        "id": "2YPVwdxIjNST",
        "colab_type": "code",
        "outputId": "1e7654d3-f4c4-4c77-89b1-fdc567eead62",
        "colab": {
          "base_uri": "https://localhost:8080/",
          "height": 826
        }
      },
      "source": [
        "pip install --upgrade numpy matplotlib pandas biopython tensorflow"
      ],
      "execution_count": 1,
      "outputs": [
        {
          "output_type": "stream",
          "text": [
            "Requirement already up-to-date: numpy in /usr/local/lib/python3.6/dist-packages (1.18.4)\n",
            "Requirement already up-to-date: matplotlib in /usr/local/lib/python3.6/dist-packages (3.2.1)\n",
            "Requirement already up-to-date: pandas in /usr/local/lib/python3.6/dist-packages (1.0.3)\n",
            "Collecting biopython\n",
            "\u001b[?25l  Downloading https://files.pythonhosted.org/packages/83/3d/e0c8a993dbea1136be90c31345aefc5babdd5046cd52f81c18fc3fdad865/biopython-1.76-cp36-cp36m-manylinux1_x86_64.whl (2.3MB)\n",
            "\u001b[K     |████████████████████████████████| 2.3MB 8.5MB/s \n",
            "\u001b[?25hRequirement already up-to-date: tensorflow in /usr/local/lib/python3.6/dist-packages (2.2.0)\n",
            "Requirement already satisfied, skipping upgrade: python-dateutil>=2.1 in /usr/local/lib/python3.6/dist-packages (from matplotlib) (2.8.1)\n",
            "Requirement already satisfied, skipping upgrade: pyparsing!=2.0.4,!=2.1.2,!=2.1.6,>=2.0.1 in /usr/local/lib/python3.6/dist-packages (from matplotlib) (2.4.7)\n",
            "Requirement already satisfied, skipping upgrade: kiwisolver>=1.0.1 in /usr/local/lib/python3.6/dist-packages (from matplotlib) (1.2.0)\n",
            "Requirement already satisfied, skipping upgrade: cycler>=0.10 in /usr/local/lib/python3.6/dist-packages (from matplotlib) (0.10.0)\n",
            "Requirement already satisfied, skipping upgrade: pytz>=2017.2 in /usr/local/lib/python3.6/dist-packages (from pandas) (2018.9)\n",
            "Requirement already satisfied, skipping upgrade: tensorboard<2.3.0,>=2.2.0 in /usr/local/lib/python3.6/dist-packages (from tensorflow) (2.2.1)\n",
            "Requirement already satisfied, skipping upgrade: absl-py>=0.7.0 in /usr/local/lib/python3.6/dist-packages (from tensorflow) (0.9.0)\n",
            "Requirement already satisfied, skipping upgrade: termcolor>=1.1.0 in /usr/local/lib/python3.6/dist-packages (from tensorflow) (1.1.0)\n",
            "Requirement already satisfied, skipping upgrade: protobuf>=3.8.0 in /usr/local/lib/python3.6/dist-packages (from tensorflow) (3.10.0)\n",
            "Requirement already satisfied, skipping upgrade: opt-einsum>=2.3.2 in /usr/local/lib/python3.6/dist-packages (from tensorflow) (3.2.1)\n",
            "Requirement already satisfied, skipping upgrade: wrapt>=1.11.1 in /usr/local/lib/python3.6/dist-packages (from tensorflow) (1.12.1)\n",
            "Requirement already satisfied, skipping upgrade: six>=1.12.0 in /usr/local/lib/python3.6/dist-packages (from tensorflow) (1.12.0)\n",
            "Requirement already satisfied, skipping upgrade: tensorflow-estimator<2.3.0,>=2.2.0 in /usr/local/lib/python3.6/dist-packages (from tensorflow) (2.2.0)\n",
            "Requirement already satisfied, skipping upgrade: grpcio>=1.8.6 in /usr/local/lib/python3.6/dist-packages (from tensorflow) (1.28.1)\n",
            "Requirement already satisfied, skipping upgrade: scipy==1.4.1; python_version >= \"3\" in /usr/local/lib/python3.6/dist-packages (from tensorflow) (1.4.1)\n",
            "Requirement already satisfied, skipping upgrade: google-pasta>=0.1.8 in /usr/local/lib/python3.6/dist-packages (from tensorflow) (0.2.0)\n",
            "Requirement already satisfied, skipping upgrade: astunparse==1.6.3 in /usr/local/lib/python3.6/dist-packages (from tensorflow) (1.6.3)\n",
            "Requirement already satisfied, skipping upgrade: wheel>=0.26; python_version >= \"3\" in /usr/local/lib/python3.6/dist-packages (from tensorflow) (0.34.2)\n",
            "Requirement already satisfied, skipping upgrade: keras-preprocessing>=1.1.0 in /usr/local/lib/python3.6/dist-packages (from tensorflow) (1.1.0)\n",
            "Requirement already satisfied, skipping upgrade: gast==0.3.3 in /usr/local/lib/python3.6/dist-packages (from tensorflow) (0.3.3)\n",
            "Requirement already satisfied, skipping upgrade: h5py<2.11.0,>=2.10.0 in /usr/local/lib/python3.6/dist-packages (from tensorflow) (2.10.0)\n",
            "Requirement already satisfied, skipping upgrade: google-auth<2,>=1.6.3 in /usr/local/lib/python3.6/dist-packages (from tensorboard<2.3.0,>=2.2.0->tensorflow) (1.7.2)\n",
            "Requirement already satisfied, skipping upgrade: google-auth-oauthlib<0.5,>=0.4.1 in /usr/local/lib/python3.6/dist-packages (from tensorboard<2.3.0,>=2.2.0->tensorflow) (0.4.1)\n",
            "Requirement already satisfied, skipping upgrade: werkzeug>=0.11.15 in /usr/local/lib/python3.6/dist-packages (from tensorboard<2.3.0,>=2.2.0->tensorflow) (1.0.1)\n",
            "Requirement already satisfied, skipping upgrade: requests<3,>=2.21.0 in /usr/local/lib/python3.6/dist-packages (from tensorboard<2.3.0,>=2.2.0->tensorflow) (2.23.0)\n",
            "Requirement already satisfied, skipping upgrade: setuptools>=41.0.0 in /usr/local/lib/python3.6/dist-packages (from tensorboard<2.3.0,>=2.2.0->tensorflow) (46.3.0)\n",
            "Requirement already satisfied, skipping upgrade: tensorboard-plugin-wit>=1.6.0 in /usr/local/lib/python3.6/dist-packages (from tensorboard<2.3.0,>=2.2.0->tensorflow) (1.6.0.post3)\n",
            "Requirement already satisfied, skipping upgrade: markdown>=2.6.8 in /usr/local/lib/python3.6/dist-packages (from tensorboard<2.3.0,>=2.2.0->tensorflow) (3.2.1)\n",
            "Requirement already satisfied, skipping upgrade: rsa<4.1,>=3.1.4 in /usr/local/lib/python3.6/dist-packages (from google-auth<2,>=1.6.3->tensorboard<2.3.0,>=2.2.0->tensorflow) (4.0)\n",
            "Requirement already satisfied, skipping upgrade: pyasn1-modules>=0.2.1 in /usr/local/lib/python3.6/dist-packages (from google-auth<2,>=1.6.3->tensorboard<2.3.0,>=2.2.0->tensorflow) (0.2.8)\n",
            "Requirement already satisfied, skipping upgrade: cachetools<3.2,>=2.0.0 in /usr/local/lib/python3.6/dist-packages (from google-auth<2,>=1.6.3->tensorboard<2.3.0,>=2.2.0->tensorflow) (3.1.1)\n",
            "Requirement already satisfied, skipping upgrade: requests-oauthlib>=0.7.0 in /usr/local/lib/python3.6/dist-packages (from google-auth-oauthlib<0.5,>=0.4.1->tensorboard<2.3.0,>=2.2.0->tensorflow) (1.3.0)\n",
            "Requirement already satisfied, skipping upgrade: certifi>=2017.4.17 in /usr/local/lib/python3.6/dist-packages (from requests<3,>=2.21.0->tensorboard<2.3.0,>=2.2.0->tensorflow) (2020.4.5.1)\n",
            "Requirement already satisfied, skipping upgrade: urllib3!=1.25.0,!=1.25.1,<1.26,>=1.21.1 in /usr/local/lib/python3.6/dist-packages (from requests<3,>=2.21.0->tensorboard<2.3.0,>=2.2.0->tensorflow) (1.24.3)\n",
            "Requirement already satisfied, skipping upgrade: idna<3,>=2.5 in /usr/local/lib/python3.6/dist-packages (from requests<3,>=2.21.0->tensorboard<2.3.0,>=2.2.0->tensorflow) (2.9)\n",
            "Requirement already satisfied, skipping upgrade: chardet<4,>=3.0.2 in /usr/local/lib/python3.6/dist-packages (from requests<3,>=2.21.0->tensorboard<2.3.0,>=2.2.0->tensorflow) (3.0.4)\n",
            "Requirement already satisfied, skipping upgrade: pyasn1>=0.1.3 in /usr/local/lib/python3.6/dist-packages (from rsa<4.1,>=3.1.4->google-auth<2,>=1.6.3->tensorboard<2.3.0,>=2.2.0->tensorflow) (0.4.8)\n",
            "Requirement already satisfied, skipping upgrade: oauthlib>=3.0.0 in /usr/local/lib/python3.6/dist-packages (from requests-oauthlib>=0.7.0->google-auth-oauthlib<0.5,>=0.4.1->tensorboard<2.3.0,>=2.2.0->tensorflow) (3.1.0)\n",
            "Installing collected packages: biopython\n",
            "Successfully installed biopython-1.76\n"
          ],
          "name": "stdout"
        }
      ]
    },
    {
      "cell_type": "code",
      "metadata": {
        "id": "4XyA7EdcI8vX",
        "colab_type": "code",
        "colab": {}
      },
      "source": [
        "import numpy as np\n",
        "import matplotlib.pyplot as plt\n",
        "import pandas as pd\n",
        "import tensorflow as tf\n",
        "from tensorflow import keras"
      ],
      "execution_count": 0,
      "outputs": []
    },
    {
      "cell_type": "markdown",
      "metadata": {
        "id": "tNzsfFaKnmDA",
        "colab_type": "text"
      },
      "source": [
        "## Load"
      ]
    },
    {
      "cell_type": "code",
      "metadata": {
        "id": "ZYDMNWxDnIwn",
        "colab_type": "code",
        "outputId": "bf2bb924-9e0a-4792-ac39-e0156b39cce1",
        "colab": {
          "base_uri": "https://localhost:8080/",
          "height": 50
        }
      },
      "source": [
        "from urllib.request import urlopen\n",
        "from gzip import GzipFile\n",
        "from io import TextIOWrapper\n",
        "from Bio import SeqIO\n",
        "\n",
        "coding_url = 'ftp://ftp.ebi.ac.uk/pub/databases/gencode/Gencode_human/release_34/gencode.v34.pc_transcripts.fa.gz'\n",
        "non_coding_url = 'ftp://ftp.ebi.ac.uk/pub/databases/gencode/Gencode_human/release_34/gencode.v34.lncRNA_transcripts.fa.gz'\n",
        "\n",
        "def load_fasta(url):\n",
        "  response = GzipFile(fileobj=urlopen(url))\n",
        "  return list(SeqIO.parse(TextIOWrapper(response), \"fasta\"))\n",
        "\n",
        "coding_seq = load_fasta(coding_url)\n",
        "non_coding_seq = load_fasta(non_coding_url)\n",
        "\n",
        "print(\"Coding: {}\".format(len(coding_seq)),\n",
        "      \"\\nNon-Coding: {}\".format(len(non_coding_seq)))"
      ],
      "execution_count": 3,
      "outputs": [
        {
          "output_type": "stream",
          "text": [
            "Coding: 100566 \n",
            "Non-Coding: 48479\n"
          ],
          "name": "stdout"
        }
      ]
    },
    {
      "cell_type": "markdown",
      "metadata": {
        "id": "TH378zconz4B",
        "colab_type": "text"
      },
      "source": [
        "## Process Data\n",
        "\n",
        "* Protein-coding transcript sequences = Class **0**\n",
        "* Long non-coding RNA transcript sequences = Class **1**"
      ]
    },
    {
      "cell_type": "code",
      "metadata": {
        "id": "L37dEyGwGsKu",
        "colab_type": "code",
        "outputId": "0c01f6c0-3c81-4067-e0cb-d6a75c9aee76",
        "colab": {
          "base_uri": "https://localhost:8080/",
          "height": 402
        }
      },
      "source": [
        "coding_data = pd.DataFrame({'seq': [str(rec.seq) for rec in coding_seq], 'class': 0})\n",
        "non_coding_data = pd.DataFrame({'seq': [str(rec.seq) for rec in non_coding_seq], 'class': 1})\n",
        "data = pd.concat([coding_data, non_coding_data])\n",
        "data"
      ],
      "execution_count": 4,
      "outputs": [
        {
          "output_type": "execute_result",
          "data": {
            "text/html": [
              "<div>\n",
              "<style scoped>\n",
              "    .dataframe tbody tr th:only-of-type {\n",
              "        vertical-align: middle;\n",
              "    }\n",
              "\n",
              "    .dataframe tbody tr th {\n",
              "        vertical-align: top;\n",
              "    }\n",
              "\n",
              "    .dataframe thead th {\n",
              "        text-align: right;\n",
              "    }\n",
              "</style>\n",
              "<table border=\"1\" class=\"dataframe\">\n",
              "  <thead>\n",
              "    <tr style=\"text-align: right;\">\n",
              "      <th></th>\n",
              "      <th>seq</th>\n",
              "      <th>class</th>\n",
              "    </tr>\n",
              "  </thead>\n",
              "  <tbody>\n",
              "    <tr>\n",
              "      <th>0</th>\n",
              "      <td>CCCAGATCTCTTCAGTTTTTATGCCTCATTCTGTGAAAATTGCTGT...</td>\n",
              "      <td>0</td>\n",
              "    </tr>\n",
              "    <tr>\n",
              "      <th>1</th>\n",
              "      <td>TCCTGGAATGAATCAACGAGTGAAACGAATAACTCTATGGTGACTG...</td>\n",
              "      <td>0</td>\n",
              "    </tr>\n",
              "    <tr>\n",
              "      <th>2</th>\n",
              "      <td>AGCCCAGTTGGCTGGACCAATGGATGGAGAGAATCACTCAGTGGTA...</td>\n",
              "      <td>0</td>\n",
              "    </tr>\n",
              "    <tr>\n",
              "      <th>3</th>\n",
              "      <td>AGCCCAGTTGGCTGGACCAATGGATGGAGAGAATCACTCAGTGGTA...</td>\n",
              "      <td>0</td>\n",
              "    </tr>\n",
              "    <tr>\n",
              "      <th>4</th>\n",
              "      <td>CGGAGTCTCCCAAGTCCCCGCCGGGCGGGCGCGCGCCAGTGGACGC...</td>\n",
              "      <td>0</td>\n",
              "    </tr>\n",
              "    <tr>\n",
              "      <th>...</th>\n",
              "      <td>...</td>\n",
              "      <td>...</td>\n",
              "    </tr>\n",
              "    <tr>\n",
              "      <th>48474</th>\n",
              "      <td>TGCACACACCTTCTTTTCCAAGGTTTGTGTGCAGAACATCCTGCCC...</td>\n",
              "      <td>1</td>\n",
              "    </tr>\n",
              "    <tr>\n",
              "      <th>48475</th>\n",
              "      <td>CACACAACATGGCCTTCAGCAATGCTGATTCAGGCTTTGTGGATGC...</td>\n",
              "      <td>1</td>\n",
              "    </tr>\n",
              "    <tr>\n",
              "      <th>48476</th>\n",
              "      <td>GGTTGCCACTTCAAGGGACTACATCATGATGTCCTGTTTCTAATGA...</td>\n",
              "      <td>1</td>\n",
              "    </tr>\n",
              "    <tr>\n",
              "      <th>48477</th>\n",
              "      <td>GTCTAGGTGCAGAGGCCAGAGGAAGTCATTGCTGTCCTGTCCCGCC...</td>\n",
              "      <td>1</td>\n",
              "    </tr>\n",
              "    <tr>\n",
              "      <th>48478</th>\n",
              "      <td>CGGCAGTCACTTTGCGGCCACTATGAGGACTGAGCTTCCTCTCCCC...</td>\n",
              "      <td>1</td>\n",
              "    </tr>\n",
              "  </tbody>\n",
              "</table>\n",
              "<p>149045 rows × 2 columns</p>\n",
              "</div>"
            ],
            "text/plain": [
              "                                                     seq  class\n",
              "0      CCCAGATCTCTTCAGTTTTTATGCCTCATTCTGTGAAAATTGCTGT...      0\n",
              "1      TCCTGGAATGAATCAACGAGTGAAACGAATAACTCTATGGTGACTG...      0\n",
              "2      AGCCCAGTTGGCTGGACCAATGGATGGAGAGAATCACTCAGTGGTA...      0\n",
              "3      AGCCCAGTTGGCTGGACCAATGGATGGAGAGAATCACTCAGTGGTA...      0\n",
              "4      CGGAGTCTCCCAAGTCCCCGCCGGGCGGGCGCGCGCCAGTGGACGC...      0\n",
              "...                                                  ...    ...\n",
              "48474  TGCACACACCTTCTTTTCCAAGGTTTGTGTGCAGAACATCCTGCCC...      1\n",
              "48475  CACACAACATGGCCTTCAGCAATGCTGATTCAGGCTTTGTGGATGC...      1\n",
              "48476  GGTTGCCACTTCAAGGGACTACATCATGATGTCCTGTTTCTAATGA...      1\n",
              "48477  GTCTAGGTGCAGAGGCCAGAGGAAGTCATTGCTGTCCTGTCCCGCC...      1\n",
              "48478  CGGCAGTCACTTTGCGGCCACTATGAGGACTGAGCTTCCTCTCCCC...      1\n",
              "\n",
              "[149045 rows x 2 columns]"
            ]
          },
          "metadata": {
            "tags": []
          },
          "execution_count": 4
        }
      ]
    },
    {
      "cell_type": "code",
      "metadata": {
        "id": "GC-CDv6pqspW",
        "colab_type": "code",
        "outputId": "ba1401a5-35c8-48fa-91fd-09b434381d08",
        "colab": {
          "base_uri": "https://localhost:8080/",
          "height": 34
        }
      },
      "source": [
        "from sklearn.model_selection import train_test_split\n",
        "X_train, X_test, y_train, y_test = train_test_split(data['seq'], data['class'], random_state=0)\n",
        "list(map(np.shape, [X_train , X_test, y_train, y_test]))"
      ],
      "execution_count": 5,
      "outputs": [
        {
          "output_type": "execute_result",
          "data": {
            "text/plain": [
              "[(111783,), (37262,), (111783,), (37262,)]"
            ]
          },
          "metadata": {
            "tags": []
          },
          "execution_count": 5
        }
      ]
    },
    {
      "cell_type": "code",
      "metadata": {
        "id": "FmVcncZ8vR9h",
        "colab_type": "code",
        "outputId": "fb8ecea3-3b22-43bc-92ac-c62268ccc347",
        "colab": {
          "base_uri": "https://localhost:8080/",
          "height": 67
        }
      },
      "source": [
        "y_train.value_counts()"
      ],
      "execution_count": 6,
      "outputs": [
        {
          "output_type": "execute_result",
          "data": {
            "text/plain": [
              "0    75633\n",
              "1    36150\n",
              "Name: class, dtype: int64"
            ]
          },
          "metadata": {
            "tags": []
          },
          "execution_count": 6
        }
      ]
    },
    {
      "cell_type": "code",
      "metadata": {
        "id": "y_v-WjzWu1dq",
        "colab_type": "code",
        "outputId": "1e3fbbca-cbd8-4edb-f407-194730503283",
        "colab": {
          "base_uri": "https://localhost:8080/",
          "height": 67
        }
      },
      "source": [
        "y_test.value_counts()"
      ],
      "execution_count": 7,
      "outputs": [
        {
          "output_type": "execute_result",
          "data": {
            "text/plain": [
              "0    24933\n",
              "1    12329\n",
              "Name: class, dtype: int64"
            ]
          },
          "metadata": {
            "tags": []
          },
          "execution_count": 7
        }
      ]
    },
    {
      "cell_type": "code",
      "metadata": {
        "id": "DhXakv-u8H3L",
        "colab_type": "code",
        "colab": {}
      },
      "source": [
        "del coding_seq, non_coding_seq, coding_data, non_coding_data, data"
      ],
      "execution_count": 0,
      "outputs": []
    },
    {
      "cell_type": "markdown",
      "metadata": {
        "id": "1mDhZggenonM",
        "colab_type": "text"
      },
      "source": [
        "## Explore Training"
      ]
    },
    {
      "cell_type": "code",
      "metadata": {
        "id": "hDBuG6zGtlQa",
        "colab_type": "code",
        "outputId": "9e8b70a7-5505-4284-d27f-4714a20df726",
        "colab": {
          "base_uri": "https://localhost:8080/",
          "height": 803
        }
      },
      "source": [
        "coding_sizes = pd.Series(map(len, X_train[y_train == 0]))\n",
        "non_coding_sizes = pd.Series(map(len, X_train[y_train == 1]))\n",
        "\n",
        "print(\"Coding\", coding_sizes.describe())\n",
        "print(\"Non-Coding\", non_coding_sizes.describe())\n",
        "\n",
        "fig, axs = plt.subplots(2, 2, figsize=(30, 10))\n",
        "axs[0][0].hist(coding_sizes, bins=100)\n",
        "axs[0][0].set_title(\"Coding\")\n",
        "axs[0][1].hist(non_coding_sizes, bins=100)\n",
        "axs[0][1].set_title(\"Non-Coding\")\n",
        "axs[1][0].hist(coding_sizes, bins=100, range=(0, 5e3))\n",
        "axs[1][1].hist(non_coding_sizes, bins=100, range=(0, 5e3))\n",
        "plt.show()\n",
        "\n",
        "del coding_sizes, non_coding_sizes"
      ],
      "execution_count": 9,
      "outputs": [
        {
          "output_type": "stream",
          "text": [
            "Coding count     75633.000000\n",
            "mean       2202.238441\n",
            "std        2289.594253\n",
            "min           8.000000\n",
            "25%         708.000000\n",
            "50%        1524.000000\n",
            "75%        2895.000000\n",
            "max      109224.000000\n",
            "dtype: float64\n",
            "Non-Coding count     36150.000000\n",
            "mean       1325.706058\n",
            "std        2229.211687\n",
            "min          32.000000\n",
            "25%         580.000000\n",
            "50%         942.000000\n",
            "75%        1631.000000\n",
            "max      347561.000000\n",
            "dtype: float64\n"
          ],
          "name": "stdout"
        },
        {
          "output_type": "display_data",
          "data": {
            "image/png": "[encoded data removed]",
            "text/plain": [
              "<Figure size 2160x720 with 4 Axes>"
            ]
          },
          "metadata": {
            "tags": [],
            "needs_background": "light"
          }
        }
      ]
    },
    {
      "cell_type": "code",
      "metadata": {
        "id": "CBXz1eHFyQHO",
        "colab_type": "code",
        "cellView": "code",
        "outputId": "73c7510a-febb-4624-cef0-b2d93a67a5d8",
        "colab": {
          "base_uri": "https://localhost:8080/",
          "height": 118
        }
      },
      "source": [
        "X_train.apply(lambda x: pd.Series(list(x)).value_counts()).sum()"
      ],
      "execution_count": 10,
      "outputs": [
        {
          "output_type": "execute_result",
          "data": {
            "text/plain": [
              "C    51385261.0\n",
              "G    52226675.0\n",
              "A    57164995.0\n",
              "T    53709240.0\n",
              "N           3.0\n",
              "dtype: float64"
            ]
          },
          "metadata": {
            "tags": []
          },
          "execution_count": 10
        }
      ]
    },
    {
      "cell_type": "markdown",
      "metadata": {
        "id": "N4Jv3tXBq1a5",
        "colab_type": "text"
      },
      "source": [
        "## Validation set"
      ]
    },
    {
      "cell_type": "code",
      "metadata": {
        "id": "eJatMn8tB-bR",
        "colab_type": "code",
        "outputId": "4c4b81e0-34b5-4755-c532-2a0b1bdeafee",
        "colab": {
          "base_uri": "https://localhost:8080/",
          "height": 34
        }
      },
      "source": [
        "X_nn_train, X_val, y_nn_train, y_val = train_test_split(X_train, y_train, test_size=0.1, random_state=1)\n",
        "list(map(np.shape, [X_nn_train, X_val, y_nn_train, y_val]))"
      ],
      "execution_count": 11,
      "outputs": [
        {
          "output_type": "execute_result",
          "data": {
            "text/plain": [
              "[(100604,), (11179,), (100604,), (11179,)]"
            ]
          },
          "metadata": {
            "tags": []
          },
          "execution_count": 11
        }
      ]
    },
    {
      "cell_type": "code",
      "metadata": {
        "id": "L1OGqbBGCaQ8",
        "colab_type": "code",
        "outputId": "1b928020-3c6e-482f-bbde-3a0574346659",
        "colab": {
          "base_uri": "https://localhost:8080/",
          "height": 67
        }
      },
      "source": [
        "y_nn_train.value_counts()"
      ],
      "execution_count": 12,
      "outputs": [
        {
          "output_type": "execute_result",
          "data": {
            "text/plain": [
              "0    68061\n",
              "1    32543\n",
              "Name: class, dtype: int64"
            ]
          },
          "metadata": {
            "tags": []
          },
          "execution_count": 12
        }
      ]
    },
    {
      "cell_type": "code",
      "metadata": {
        "id": "j62obzIPFSVF",
        "colab_type": "code",
        "outputId": "906ccce9-479d-45e8-b73c-41557d61fe51",
        "colab": {
          "base_uri": "https://localhost:8080/",
          "height": 67
        }
      },
      "source": [
        "y_val.value_counts()"
      ],
      "execution_count": 13,
      "outputs": [
        {
          "output_type": "execute_result",
          "data": {
            "text/plain": [
              "0    7572\n",
              "1    3607\n",
              "Name: class, dtype: int64"
            ]
          },
          "metadata": {
            "tags": []
          },
          "execution_count": 13
        }
      ]
    },
    {
      "cell_type": "markdown",
      "metadata": {
        "id": "IrCWS1emB7a4",
        "colab_type": "text"
      },
      "source": [
        "## Over-sampling"
      ]
    },
    {
      "cell_type": "code",
      "metadata": {
        "id": "kHPPXPrEq1NC",
        "colab_type": "code",
        "outputId": "048fff86-7466-4727-ef3f-f26c9cbee5d0",
        "colab": {
          "base_uri": "https://localhost:8080/",
          "height": 67
        }
      },
      "source": [
        "non_coding_ids = np.arange(len(y_nn_train))[y_nn_train == 1]\n",
        "non_coding_choices = np.random.default_rng(0).choice(non_coding_ids, (len(y_nn_train[y_nn_train == 0]) - len(y_nn_train[y_nn_train == 1])))\n",
        "X_train_over = pd.concat([X_nn_train, X_nn_train.iloc[non_coding_choices]]).sample(frac=1, random_state=2)\n",
        "y_train_over = pd.concat([y_nn_train, y_nn_train.iloc[non_coding_choices]]).sample(frac=1, random_state=2)\n",
        "del non_coding_ids, non_coding_choices\n",
        "y_train_over.value_counts()"
      ],
      "execution_count": 14,
      "outputs": [
        {
          "output_type": "execute_result",
          "data": {
            "text/plain": [
              "1    68061\n",
              "0    68061\n",
              "Name: class, dtype: int64"
            ]
          },
          "metadata": {
            "tags": []
          },
          "execution_count": 14
        }
      ]
    },
    {
      "cell_type": "markdown",
      "metadata": {
        "id": "EaPiRdZwR0mz",
        "colab_type": "text"
      },
      "source": [
        "## Encode"
      ]
    },
    {
      "cell_type": "code",
      "metadata": {
        "id": "7CN1_c2muNDM",
        "colab_type": "code",
        "colab": {}
      },
      "source": [
        "base = ['A', 'T', 'C', 'G']\n",
        "base_length = len(base)\n",
        "seq_length = 512\n",
        "\n",
        "def encode(seq):\n",
        "  base_onehot = tf.eye(base_length)\n",
        "\n",
        "  seq_array = tf.strings.bytes_split(seq)[:seq_length]\n",
        "  seq_array = tf.pad(seq_array, [[0, seq_length - tf.shape(seq_array)[0]]])\n",
        "\n",
        "  encoded_seq = tf.zeros((seq_length, base_length))\n",
        "  for base_id, base_char in enumerate(base):\n",
        "    mask_indices = tf.where(seq_array == base_char)\n",
        "    encoded_seq = tf.tensor_scatter_nd_update(\n",
        "      encoded_seq, mask_indices, tf.repeat([base_onehot[base_id]], tf.shape(mask_indices)[0], 0)\n",
        "    )\n",
        "\n",
        "  return encoded_seq\n",
        "\n",
        "X_train_encoded = tf.data.Dataset.from_tensor_slices(X_train_over).map(encode)\n",
        "y_train_encoded = tf.data.Dataset.from_tensor_slices(keras.utils.to_categorical(y_train_over))\n",
        "dataset_encoded = tf.data.Dataset.zip((X_train_encoded, y_train_encoded))\n",
        "dataset_encoded = dataset_encoded.batch(32)\n",
        "\n",
        "X_val_encoded = tf.data.Dataset.from_tensor_slices(X_val).map(encode)\n",
        "y_val_encoded = tf.data.Dataset.from_tensor_slices(keras.utils.to_categorical(y_val))\n",
        "val_encoded = tf.data.Dataset.zip((X_val_encoded, y_val_encoded))\n",
        "val_encoded = val_encoded.batch(256)"
      ],
      "execution_count": 0,
      "outputs": []
    },
    {
      "cell_type": "code",
      "metadata": {
        "id": "uPJLzGFhEZEz",
        "colab_type": "code",
        "outputId": "ae5bfeb2-a6b4-417a-b8eb-94ed0a2d9363",
        "colab": {
          "base_uri": "https://localhost:8080/",
          "height": 403
        }
      },
      "source": [
        "for i, seq in enumerate(X_train_over):\n",
        "  length = len(seq)\n",
        "  if (length < seq_length):\n",
        "    print(i)\n",
        "    print(len(X_train_over.iloc[i]), X_train_over.iloc[i][:10], X_train_over.iloc[i][length-5:length+5], y_train_over.iloc[i])\n",
        "    X_first, y_first  = next(iter(dataset_encoded.unbatch().skip(i).take(1)))\n",
        "    print(X_first.numpy()[:10])\n",
        "    print(X_first.numpy()[length-5:length+5])\n",
        "    print(y_first.numpy())\n",
        "    break"
      ],
      "execution_count": 16,
      "outputs": [
        {
          "output_type": "stream",
          "text": [
            "4\n",
            "450 CTTGGGACCT CTGGG 1\n",
            "[[0. 0. 1. 0.]\n",
            " [0. 1. 0. 0.]\n",
            " [0. 1. 0. 0.]\n",
            " [0. 0. 0. 1.]\n",
            " [0. 0. 0. 1.]\n",
            " [0. 0. 0. 1.]\n",
            " [1. 0. 0. 0.]\n",
            " [0. 0. 1. 0.]\n",
            " [0. 0. 1. 0.]\n",
            " [0. 1. 0. 0.]]\n",
            "[[0. 0. 1. 0.]\n",
            " [0. 1. 0. 0.]\n",
            " [0. 0. 0. 1.]\n",
            " [0. 0. 0. 1.]\n",
            " [0. 0. 0. 1.]\n",
            " [0. 0. 0. 0.]\n",
            " [0. 0. 0. 0.]\n",
            " [0. 0. 0. 0.]\n",
            " [0. 0. 0. 0.]\n",
            " [0. 0. 0. 0.]]\n",
            "[0. 1.]\n"
          ],
          "name": "stdout"
        }
      ]
    },
    {
      "cell_type": "markdown",
      "metadata": {
        "id": "OD2ZBVYX66Bv",
        "colab_type": "text"
      },
      "source": [
        "## Model\n",
        "\n",
        "https://machinelearningmastery.com/develop-n-gram-multichannel-convolutional-neural-network-sentiment-analysis/\n",
        "\n",
        "http://www.wildml.com/2015/12/implementing-a-cnn-for-text-classification-in-tensorflow/\n",
        "\n",
        "https://machinelearningmastery.com/cnn-models-for-human-activity-recognition-time-series-classification/\n",
        "\n",
        "https://www.researchgate.net/publication/301703031_DNA_Sequence_Classification_by_Convolutional_Neural_Network\n",
        "\n",
        "https://www.researchgate.net/publication/327213391_DeepSF_Deep_Convolutional_Neural_Network_for_Mapping_Protein_Sequences_to_Folds\n",
        "\n",
        "https://www.kaggle.com/sohaibanwaar1203/sequence-classification-using-deep-learning/notebook"
      ]
    },
    {
      "cell_type": "code",
      "metadata": {
        "id": "XVzJkPkVgt5_",
        "colab_type": "code",
        "colab": {}
      },
      "source": [
        "keras.backend.clear_session()"
      ],
      "execution_count": 0,
      "outputs": []
    },
    {
      "cell_type": "code",
      "metadata": {
        "id": "soU74J-QwWMV",
        "colab_type": "code",
        "outputId": "521f5322-4641-41e2-f56d-10ce191d699a",
        "colab": {
          "base_uri": "https://localhost:8080/",
          "height": 319
        }
      },
      "source": [
        "model_fcc = keras.Sequential([\n",
        "    keras.layers.Flatten(input_shape=(seq_length, base_length)),\n",
        "    keras.layers.Dense(512, activation='relu'),\n",
        "    keras.layers.Dense(256, activation='relu'),\n",
        "    keras.layers.Dropout(0.5),\n",
        "    keras.layers.Dense(2, activation='softmax')\n",
        "])\n",
        "\n",
        "model_fcc.compile(optimizer='adam',\n",
        "              loss='binary_crossentropy',\n",
        "              metrics=['accuracy', keras.metrics.AUC()])\n",
        "\n",
        "model_fcc.summary()"
      ],
      "execution_count": 18,
      "outputs": [
        {
          "output_type": "stream",
          "text": [
            "Model: \"sequential\"\n",
            "_________________________________________________________________\n",
            "Layer (type)                 Output Shape              Param #   \n",
            "=================================================================\n",
            "flatten (Flatten)            (None, 2048)              0         \n",
            "_________________________________________________________________\n",
            "dense (Dense)                (None, 512)               1049088   \n",
            "_________________________________________________________________\n",
            "dense_1 (Dense)              (None, 256)               131328    \n",
            "_________________________________________________________________\n",
            "dropout (Dropout)            (None, 256)               0         \n",
            "_________________________________________________________________\n",
            "dense_2 (Dense)              (None, 2)                 514       \n",
            "=================================================================\n",
            "Total params: 1,180,930\n",
            "Trainable params: 1,180,930\n",
            "Non-trainable params: 0\n",
            "_________________________________________________________________\n"
          ],
          "name": "stdout"
        }
      ]
    },
    {
      "cell_type": "code",
      "metadata": {
        "id": "aJcC_PhY9gHi",
        "colab_type": "code",
        "outputId": "a4cea7d8-d4f1-437e-e5bb-8679ec9d43ce",
        "colab": {
          "base_uri": "https://localhost:8080/",
          "height": 588
        }
      },
      "source": [
        "model_conv = keras.Sequential([\n",
        "    keras.layers.Conv1D(filters=96, kernel_size=17, input_shape=(seq_length, base_length), activation='relu'),\n",
        "    keras.layers.Conv1D(filters=96, kernel_size=15, activation='relu'),\n",
        "    keras.layers.MaxPool1D(2),\n",
        "    keras.layers.Conv1D(filters=64, kernel_size=15, activation='relu'),\n",
        "    keras.layers.Conv1D(filters=64, kernel_size=13, activation='relu'),\n",
        "    keras.layers.MaxPool1D(2),\n",
        "    keras.layers.Conv1D(filters=32, kernel_size=13, activation='relu'),\n",
        "    keras.layers.Conv1D(filters=32, kernel_size=11, activation='relu'),\n",
        "    keras.layers.MaxPool1D(2),\n",
        "    keras.layers.Flatten(),\n",
        "    keras.layers.Dense(128, activation='relu'),\n",
        "    keras.layers.Dropout(0.5),\n",
        "    keras.layers.Dense(2, activation='softmax')\n",
        "])\n",
        "\n",
        "model_conv.compile(optimizer='adam',\n",
        "              loss='binary_crossentropy',\n",
        "              metrics=['accuracy', keras.metrics.AUC()])\n",
        "\n",
        "model_conv.summary()"
      ],
      "execution_count": 19,
      "outputs": [
        {
          "output_type": "stream",
          "text": [
            "Model: \"sequential_1\"\n",
            "_________________________________________________________________\n",
            "Layer (type)                 Output Shape              Param #   \n",
            "=================================================================\n",
            "conv1d (Conv1D)              (None, 496, 96)           6624      \n",
            "_________________________________________________________________\n",
            "conv1d_1 (Conv1D)            (None, 482, 96)           138336    \n",
            "_________________________________________________________________\n",
            "max_pooling1d (MaxPooling1D) (None, 241, 96)           0         \n",
            "_________________________________________________________________\n",
            "conv1d_2 (Conv1D)            (None, 227, 64)           92224     \n",
            "_________________________________________________________________\n",
            "conv1d_3 (Conv1D)            (None, 215, 64)           53312     \n",
            "_________________________________________________________________\n",
            "max_pooling1d_1 (MaxPooling1 (None, 107, 64)           0         \n",
            "_________________________________________________________________\n",
            "conv1d_4 (Conv1D)            (None, 95, 32)            26656     \n",
            "_________________________________________________________________\n",
            "conv1d_5 (Conv1D)            (None, 85, 32)            11296     \n",
            "_________________________________________________________________\n",
            "max_pooling1d_2 (MaxPooling1 (None, 42, 32)            0         \n",
            "_________________________________________________________________\n",
            "flatten_1 (Flatten)          (None, 1344)              0         \n",
            "_________________________________________________________________\n",
            "dense_3 (Dense)              (None, 128)               172160    \n",
            "_________________________________________________________________\n",
            "dropout_1 (Dropout)          (None, 128)               0         \n",
            "_________________________________________________________________\n",
            "dense_4 (Dense)              (None, 2)                 258       \n",
            "=================================================================\n",
            "Total params: 500,866\n",
            "Trainable params: 500,866\n",
            "Non-trainable params: 0\n",
            "_________________________________________________________________\n"
          ],
          "name": "stdout"
        }
      ]
    },
    {
      "cell_type": "code",
      "metadata": {
        "id": "lU4qgHkoOTb7",
        "colab_type": "code",
        "outputId": "5520e034-3ead-4833-a1db-dd86a21b57ca",
        "colab": {
          "base_uri": "https://localhost:8080/",
          "height": 118
        }
      },
      "source": [
        "for w in model_fcc.get_weights():\n",
        "  print(w.shape)"
      ],
      "execution_count": 20,
      "outputs": [
        {
          "output_type": "stream",
          "text": [
            "(2048, 512)\n",
            "(512,)\n",
            "(512, 256)\n",
            "(256,)\n",
            "(256, 2)\n",
            "(2,)\n"
          ],
          "name": "stdout"
        }
      ]
    },
    {
      "cell_type": "code",
      "metadata": {
        "id": "WfwUrQ65XMSV",
        "colab_type": "code",
        "outputId": "a88e8af6-d35c-41b5-facf-f25d047510aa",
        "colab": {
          "base_uri": "https://localhost:8080/",
          "height": 286
        }
      },
      "source": [
        "for w in model_conv.get_weights():\n",
        "  print(w.shape)"
      ],
      "execution_count": 21,
      "outputs": [
        {
          "output_type": "stream",
          "text": [
            "(17, 4, 96)\n",
            "(96,)\n",
            "(15, 96, 96)\n",
            "(96,)\n",
            "(15, 96, 64)\n",
            "(64,)\n",
            "(13, 64, 64)\n",
            "(64,)\n",
            "(13, 64, 32)\n",
            "(32,)\n",
            "(11, 32, 32)\n",
            "(32,)\n",
            "(1344, 128)\n",
            "(128,)\n",
            "(128, 2)\n",
            "(2,)\n"
          ],
          "name": "stdout"
        }
      ]
    },
    {
      "cell_type": "markdown",
      "metadata": {
        "id": "pnjVO33Foxuw",
        "colab_type": "text"
      },
      "source": [
        "## Train"
      ]
    },
    {
      "cell_type": "code",
      "metadata": {
        "id": "MZq2xd28ZNdF",
        "colab_type": "code",
        "outputId": "ac2b1cfd-a971-49ed-d03a-7acca204b1bc",
        "colab": {
          "base_uri": "https://localhost:8080/",
          "height": 168
        }
      },
      "source": [
        "model_fcc.fit(dataset_encoded, validation_data=val_encoded, epochs=4)"
      ],
      "execution_count": 22,
      "outputs": [
        {
          "output_type": "stream",
          "text": [
            "Epoch 1/4\n",
            "4254/4254 [==============================] - 53s 12ms/step - loss: 0.4917 - accuracy: 0.7613 - auc: 0.8405 - val_loss: 0.4964 - val_accuracy: 0.7499 - val_auc: 0.8395\n",
            "Epoch 2/4\n",
            "4254/4254 [==============================] - 53s 12ms/step - loss: 0.3825 - accuracy: 0.8341 - auc: 0.9088 - val_loss: 0.5135 - val_accuracy: 0.7690 - val_auc: 0.8571\n",
            "Epoch 3/4\n",
            "4254/4254 [==============================] - 53s 13ms/step - loss: 0.3108 - accuracy: 0.8716 - auc: 0.9407 - val_loss: 0.6737 - val_accuracy: 0.7692 - val_auc: 0.8515\n",
            "Epoch 4/4\n",
            "4254/4254 [==============================] - 54s 13ms/step - loss: 0.2483 - accuracy: 0.9017 - auc: 0.9623 - val_loss: 0.5965 - val_accuracy: 0.7743 - val_auc: 0.8624\n"
          ],
          "name": "stdout"
        },
        {
          "output_type": "execute_result",
          "data": {
            "text/plain": [
              "<tensorflow.python.keras.callbacks.History at 0x7f0743a55d30>"
            ]
          },
          "metadata": {
            "tags": []
          },
          "execution_count": 22
        }
      ]
    },
    {
      "cell_type": "code",
      "metadata": {
        "id": "09oD-g2wxRiy",
        "colab_type": "code",
        "outputId": "1440095e-f602-4f48-f599-d3338f9827e9",
        "colab": {
          "base_uri": "https://localhost:8080/",
          "height": 168
        }
      },
      "source": [
        "model_conv.fit(dataset_encoded, validation_data=val_encoded, epochs=4)"
      ],
      "execution_count": 23,
      "outputs": [
        {
          "output_type": "stream",
          "text": [
            "Epoch 1/4\n",
            "4254/4254 [==============================] - 76s 18ms/step - loss: 0.4260 - accuracy: 0.8027 - auc_1: 0.8854 - val_loss: 0.2985 - val_accuracy: 0.8681 - val_auc_1: 0.9451\n",
            "Epoch 2/4\n",
            "4254/4254 [==============================] - 74s 17ms/step - loss: 0.2771 - accuracy: 0.8902 - auc_1: 0.9531 - val_loss: 0.2740 - val_accuracy: 0.8817 - val_auc_1: 0.9546\n",
            "Epoch 3/4\n",
            "4254/4254 [==============================] - 76s 18ms/step - loss: 0.2230 - accuracy: 0.9157 - auc_1: 0.9692 - val_loss: 0.2558 - val_accuracy: 0.8961 - val_auc_1: 0.9632\n",
            "Epoch 4/4\n",
            "4254/4254 [==============================] - 76s 18ms/step - loss: 0.1832 - accuracy: 0.9324 - auc_1: 0.9789 - val_loss: 0.2813 - val_accuracy: 0.8980 - val_auc_1: 0.9618\n"
          ],
          "name": "stdout"
        },
        {
          "output_type": "execute_result",
          "data": {
            "text/plain": [
              "<tensorflow.python.keras.callbacks.History at 0x7f0743a55978>"
            ]
          },
          "metadata": {
            "tags": []
          },
          "execution_count": 23
        }
      ]
    },
    {
      "cell_type": "markdown",
      "metadata": {
        "id": "Xtx75kxoopvv",
        "colab_type": "text"
      },
      "source": [
        "## Evaluate"
      ]
    },
    {
      "cell_type": "code",
      "metadata": {
        "id": "WWs1HZUAo7bz",
        "colab_type": "code",
        "colab": {}
      },
      "source": [
        "X_test_encoded = tf.data.Dataset.from_tensor_slices(X_test).map(encode)\n",
        "y_test_encoded = tf.data.Dataset.from_tensor_slices(keras.utils.to_categorical(y_test))\n",
        "test_dataset_encoded = tf.data.Dataset.zip((X_test_encoded, y_test_encoded))\n",
        "test_dataset_encoded = test_dataset_encoded.batch(256)"
      ],
      "execution_count": 0,
      "outputs": []
    },
    {
      "cell_type": "code",
      "metadata": {
        "id": "r3qeo9YZogxm",
        "colab_type": "code",
        "outputId": "03fcccbd-da84-4ae5-d132-d6adb89266ce",
        "colab": {
          "base_uri": "https://localhost:8080/",
          "height": 84
        }
      },
      "source": [
        "print(model_fcc.evaluate(test_dataset_encoded))\n",
        "print(model_conv.evaluate(test_dataset_encoded))"
      ],
      "execution_count": 25,
      "outputs": [
        {
          "output_type": "stream",
          "text": [
            "146/146 [==============================] - 11s 72ms/step - loss: 0.5828 - accuracy: 0.7828 - auc: 0.8672\n",
            "[0.582789957523346, 0.7827813625335693, 0.8671771287918091]\n",
            "146/146 [==============================] - 12s 79ms/step - loss: 0.2916 - accuracy: 0.8961 - auc_1: 0.9602\n",
            "[0.291617751121521, 0.8960603475570679, 0.9602330923080444]\n"
          ],
          "name": "stdout"
        }
      ]
    },
    {
      "cell_type": "code",
      "metadata": {
        "id": "072iU3zgpDqK",
        "colab_type": "code",
        "colab": {}
      },
      "source": [
        "y_fcc_pred = np.argmax(model_fcc.predict(test_dataset_encoded), 1)\n",
        "y_conv_pred = np.argmax(model_conv.predict(test_dataset_encoded), 1)"
      ],
      "execution_count": 0,
      "outputs": []
    },
    {
      "cell_type": "code",
      "metadata": {
        "id": "Re5WY6lGp34m",
        "colab_type": "code",
        "outputId": "915ca16f-21ff-4b7a-c7c5-5fe6c7bfba07",
        "colab": {
          "base_uri": "https://localhost:8080/",
          "height": 319
        }
      },
      "source": [
        "from sklearn.metrics import classification_report\n",
        "print(classification_report(y_test, y_fcc_pred))\n",
        "print(classification_report(y_test, y_conv_pred))"
      ],
      "execution_count": 27,
      "outputs": [
        {
          "output_type": "stream",
          "text": [
            "              precision    recall  f1-score   support\n",
            "\n",
            "           0       0.87      0.80      0.83     24933\n",
            "           1       0.65      0.75      0.70     12329\n",
            "\n",
            "    accuracy                           0.78     37262\n",
            "   macro avg       0.76      0.78      0.76     37262\n",
            "weighted avg       0.79      0.78      0.79     37262\n",
            "\n",
            "              precision    recall  f1-score   support\n",
            "\n",
            "           0       0.94      0.90      0.92     24933\n",
            "           1       0.81      0.89      0.85     12329\n",
            "\n",
            "    accuracy                           0.90     37262\n",
            "   macro avg       0.88      0.89      0.89     37262\n",
            "weighted avg       0.90      0.90      0.90     37262\n",
            "\n"
          ],
          "name": "stdout"
        }
      ]
    },
    {
      "cell_type": "markdown",
      "metadata": {
        "id": "_qye7BOcQD5T",
        "colab_type": "text"
      },
      "source": [
        "## Visualize test"
      ]
    },
    {
      "cell_type": "code",
      "metadata": {
        "id": "Wh-_Qvjc9hhp",
        "colab_type": "code",
        "outputId": "edb08e8f-6cae-4843-88dd-6a9d3b9fd57a",
        "colab": {
          "base_uri": "https://localhost:8080/",
          "height": 1000
        }
      },
      "source": [
        "y_test_coding_mask = y_test == 0\n",
        "y_test_non_coding_mask = y_test == 1\n",
        "\n",
        "coding_sizes = pd.Series(map(len, X_test[y_test_coding_mask]))\n",
        "non_coding_sizes = pd.Series(map(len, X_test[y_test_non_coding_mask]))\n",
        "\n",
        "def plot_test(y_pred, title):\n",
        "  coding_sizes_stack = [coding_sizes[y_pred[y_test_coding_mask] == 0], coding_sizes[y_pred[y_test_coding_mask] == 1]]\n",
        "  non_coding_sizes_stack = [non_coding_sizes[y_pred[y_test_non_coding_mask] == 1], non_coding_sizes[y_pred[y_test_non_coding_mask] == 0]]\n",
        "\n",
        "  labels = ['Correct', 'Wrong']\n",
        "\n",
        "  fig, axs = plt.subplots(3, 2, figsize=(30, 20))\n",
        "  plt.suptitle(title)\n",
        "  axs[0][0].hist(coding_sizes_stack, bins=100, stacked=True, label=labels)\n",
        "  axs[0][0].set_title(\"Coding\")\n",
        "  axs[0][1].hist(non_coding_sizes_stack, bins=100, stacked=True, label=labels)\n",
        "  axs[0][1].set_title(\"Non-Coding\")\n",
        "  axs[1][0].hist(coding_sizes_stack, bins=100, stacked=True, range=(0, 5e3), label=labels)\n",
        "  axs[1][1].hist(non_coding_sizes_stack, bins=100, stacked=True, range=(0, 5e3), label=labels)\n",
        "  axs[2][0].hist(coding_sizes_stack, bins=100, stacked=True, range=(0, 1e3), label=labels)\n",
        "  axs[2][1].hist(non_coding_sizes_stack, bins=100, stacked=True, range=(0, 1e3), label=labels)\n",
        "  for ax in axs.flat:\n",
        "    ax.legend()\n",
        "  plt.show()\n",
        "\n",
        "  del coding_sizes_stack, non_coding_sizes_stack\n",
        "\n",
        "plot_test(y_fcc_pred, \"FCC\")\n",
        "plot_test(y_conv_pred, \"Conv\")\n",
        "\n",
        "del y_test_coding_mask, y_test_non_coding_mask, coding_sizes, non_coding_sizes"
      ],
      "execution_count": 28,
      "outputs": [
        {
          "output_type": "display_data",
          "data": {
            "image/png": "[encoded data removed]",
            "text/plain": [
              "<Figure size 2160x1440 with 6 Axes>"
            ]
          },
          "metadata": {
            "tags": [],
            "needs_background": "light"
          }
        },
        {
          "output_type": "display_data",
          "data": {
            "image/png": "[encoded data removed]",
            "text/plain": [
              "<Figure size 2160x1440 with 6 Axes>"
            ]
          },
          "metadata": {
            "tags": [],
            "needs_background": "light"
          }
        }
      ]
    },
    {
      "cell_type": "code",
      "metadata": {
        "id": "Tke8mmCo_DNS",
        "colab_type": "code",
        "colab": {}
      },
      "source": [
        ""
      ],
      "execution_count": 0,
      "outputs": []
    }
  ]
}