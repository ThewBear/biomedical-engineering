{
  "nbformat": 4,
  "nbformat_minor": 0,
  "metadata": {
    "colab": {
      "name": "McBel.ipynb",
      "provenance": [],
      "collapsed_sections": []
    },
    "kernelspec": {
      "name": "python3",
      "display_name": "Python 3"
    }
  },
  "cells": [
    {
      "cell_type": "code",
      "metadata": {
        "id": "nEfTJ5-vUYK4",
        "colab_type": "code",
        "outputId": "7d3743be-5de1-4137-f01e-1a9c0e7463e9",
        "colab": {
          "base_uri": "https://localhost:8080/",
          "height": 84
        }
      },
      "source": [
        "!pip install biopython torch"
      ],
      "execution_count": 1,
      "outputs": [
        {
          "output_type": "stream",
          "text": [
            "Requirement already satisfied: biopython in /usr/local/lib/python3.6/dist-packages (1.77)\n",
            "Requirement already satisfied: torch in /usr/local/lib/python3.6/dist-packages (1.5.0+cu101)\n",
            "Requirement already satisfied: numpy in /usr/local/lib/python3.6/dist-packages (from biopython) (1.18.5)\n",
            "Requirement already satisfied: future in /usr/local/lib/python3.6/dist-packages (from torch) (0.16.0)\n"
          ],
          "name": "stdout"
        }
      ]
    },
    {
      "cell_type": "code",
      "metadata": {
        "id": "Yt9oCY04YeTL",
        "colab_type": "code",
        "colab": {}
      },
      "source": [
        "from IPython.display import display, HTML\n",
        "import numpy as np\n",
        "import matplotlib.pyplot as plt\n",
        "import pandas as pd"
      ],
      "execution_count": 0,
      "outputs": []
    },
    {
      "cell_type": "code",
      "metadata": {
        "id": "-gc55thtabMX",
        "colab_type": "code",
        "colab": {}
      },
      "source": [
        "from Bio import SeqIO\n",
        "import re\n",
        "\n",
        "def load_fasta(fname):\n",
        "  parsed = []\n",
        "  for seq in SeqIO.parse(fname, \"fasta\"):\n",
        "    record = { 'seq': str(seq.seq).upper() }\n",
        "    if 'trueSeq' in seq.id:\n",
        "      meta = re.search('::\\w+::(?P<rbps>(?:\\w+(?:///)?)+)::(?P<id>\\w+)', seq.id).groupdict()\n",
        "      rbps = {key: 1 for key in meta['rbps'].split('///')}\n",
        "      record['id'] = meta['id']\n",
        "      record.update(rbps)\n",
        "    parsed.append(record)\n",
        "  return pd.DataFrame(parsed).fillna(0)\n",
        "\n",
        "train = load_fasta('train.txt')\n",
        "valid = load_fasta('valid.txt')\n",
        "test = load_fasta('test.txt')"
      ],
      "execution_count": 0,
      "outputs": []
    },
    {
      "cell_type": "code",
      "metadata": {
        "id": "p0c6S6gFniXT",
        "colab_type": "code",
        "outputId": "d38272b5-635f-49d5-de3b-a446e8ff07f3",
        "colab": {
          "base_uri": "https://localhost:8080/",
          "height": 215
        }
      },
      "source": [
        "train.head()"
      ],
      "execution_count": 4,
      "outputs": [
        {
          "output_type": "execute_result",
          "data": {
            "text/html": [
              "<div>\n",
              "<style scoped>\n",
              "    .dataframe tbody tr th:only-of-type {\n",
              "        vertical-align: middle;\n",
              "    }\n",
              "\n",
              "    .dataframe tbody tr th {\n",
              "        vertical-align: top;\n",
              "    }\n",
              "\n",
              "    .dataframe thead th {\n",
              "        text-align: right;\n",
              "    }\n",
              "</style>\n",
              "<table border=\"1\" class=\"dataframe\">\n",
              "  <thead>\n",
              "    <tr style=\"text-align: right;\">\n",
              "      <th></th>\n",
              "      <th>seq</th>\n",
              "      <th>id</th>\n",
              "      <th>ATXN2</th>\n",
              "      <th>FUS</th>\n",
              "      <th>CPSF6</th>\n",
              "      <th>HNRNPC</th>\n",
              "      <th>NUDT21</th>\n",
              "      <th>ELAVL1</th>\n",
              "      <th>LIN28B</th>\n",
              "      <th>FIP1L1</th>\n",
              "      <th>MOV10</th>\n",
              "      <th>WDR33</th>\n",
              "      <th>CPSF7</th>\n",
              "      <th>YTHDF2</th>\n",
              "      <th>CSTF2T</th>\n",
              "      <th>ZC3H7B</th>\n",
              "      <th>CAPRIN1</th>\n",
              "      <th>CPSF1</th>\n",
              "      <th>CPSF4</th>\n",
              "      <th>CPSF3</th>\n",
              "      <th>TARDBP</th>\n",
              "      <th>CSTF2</th>\n",
              "    </tr>\n",
              "  </thead>\n",
              "  <tbody>\n",
              "    <tr>\n",
              "      <th>0</th>\n",
              "      <td>AGCATGTTAGAGTTCTGATGGCAGTTGTTGTTTATGAATAAGCTTC...</td>\n",
              "      <td>ENST00000545308</td>\n",
              "      <td>1.0</td>\n",
              "      <td>1.0</td>\n",
              "      <td>0.0</td>\n",
              "      <td>0.0</td>\n",
              "      <td>0.0</td>\n",
              "      <td>0.0</td>\n",
              "      <td>0.0</td>\n",
              "      <td>0.0</td>\n",
              "      <td>0.0</td>\n",
              "      <td>0.0</td>\n",
              "      <td>0.0</td>\n",
              "      <td>0.0</td>\n",
              "      <td>0.0</td>\n",
              "      <td>0.0</td>\n",
              "      <td>0.0</td>\n",
              "      <td>0.0</td>\n",
              "      <td>0.0</td>\n",
              "      <td>0.0</td>\n",
              "      <td>0.0</td>\n",
              "      <td>0.0</td>\n",
              "    </tr>\n",
              "    <tr>\n",
              "      <th>1</th>\n",
              "      <td>AAACATATTCTATTCATTTATTTTATAACTGTTCCCTTGACCTCTT...</td>\n",
              "      <td>ENST00000606457</td>\n",
              "      <td>1.0</td>\n",
              "      <td>0.0</td>\n",
              "      <td>1.0</td>\n",
              "      <td>0.0</td>\n",
              "      <td>0.0</td>\n",
              "      <td>0.0</td>\n",
              "      <td>0.0</td>\n",
              "      <td>0.0</td>\n",
              "      <td>0.0</td>\n",
              "      <td>0.0</td>\n",
              "      <td>0.0</td>\n",
              "      <td>0.0</td>\n",
              "      <td>0.0</td>\n",
              "      <td>0.0</td>\n",
              "      <td>0.0</td>\n",
              "      <td>0.0</td>\n",
              "      <td>0.0</td>\n",
              "      <td>0.0</td>\n",
              "      <td>0.0</td>\n",
              "      <td>0.0</td>\n",
              "    </tr>\n",
              "    <tr>\n",
              "      <th>2</th>\n",
              "      <td>CCCCACCCACCCCTTTGGAGAGGTGTCCCTCGTAACATTCTGGAGC...</td>\n",
              "      <td>ENST00000506172</td>\n",
              "      <td>1.0</td>\n",
              "      <td>0.0</td>\n",
              "      <td>0.0</td>\n",
              "      <td>0.0</td>\n",
              "      <td>0.0</td>\n",
              "      <td>0.0</td>\n",
              "      <td>0.0</td>\n",
              "      <td>0.0</td>\n",
              "      <td>0.0</td>\n",
              "      <td>0.0</td>\n",
              "      <td>0.0</td>\n",
              "      <td>0.0</td>\n",
              "      <td>0.0</td>\n",
              "      <td>0.0</td>\n",
              "      <td>0.0</td>\n",
              "      <td>0.0</td>\n",
              "      <td>0.0</td>\n",
              "      <td>0.0</td>\n",
              "      <td>0.0</td>\n",
              "      <td>0.0</td>\n",
              "    </tr>\n",
              "    <tr>\n",
              "      <th>3</th>\n",
              "      <td>CTTGCAGTCTGAGCACGCGTAAGGCTTCTCCCCGGTGTGAGCCCGC...</td>\n",
              "      <td>ENST00000492040</td>\n",
              "      <td>1.0</td>\n",
              "      <td>0.0</td>\n",
              "      <td>0.0</td>\n",
              "      <td>0.0</td>\n",
              "      <td>0.0</td>\n",
              "      <td>0.0</td>\n",
              "      <td>0.0</td>\n",
              "      <td>0.0</td>\n",
              "      <td>0.0</td>\n",
              "      <td>0.0</td>\n",
              "      <td>0.0</td>\n",
              "      <td>0.0</td>\n",
              "      <td>0.0</td>\n",
              "      <td>0.0</td>\n",
              "      <td>0.0</td>\n",
              "      <td>0.0</td>\n",
              "      <td>0.0</td>\n",
              "      <td>0.0</td>\n",
              "      <td>0.0</td>\n",
              "      <td>0.0</td>\n",
              "    </tr>\n",
              "    <tr>\n",
              "      <th>4</th>\n",
              "      <td>TAATCCACAGTTTCCCAACCTCAGCCCTACTGACACTGGGGCTGGA...</td>\n",
              "      <td>ENST00000572913</td>\n",
              "      <td>1.0</td>\n",
              "      <td>0.0</td>\n",
              "      <td>0.0</td>\n",
              "      <td>0.0</td>\n",
              "      <td>0.0</td>\n",
              "      <td>0.0</td>\n",
              "      <td>0.0</td>\n",
              "      <td>0.0</td>\n",
              "      <td>0.0</td>\n",
              "      <td>0.0</td>\n",
              "      <td>0.0</td>\n",
              "      <td>0.0</td>\n",
              "      <td>0.0</td>\n",
              "      <td>0.0</td>\n",
              "      <td>0.0</td>\n",
              "      <td>0.0</td>\n",
              "      <td>0.0</td>\n",
              "      <td>0.0</td>\n",
              "      <td>0.0</td>\n",
              "      <td>0.0</td>\n",
              "    </tr>\n",
              "  </tbody>\n",
              "</table>\n",
              "</div>"
            ],
            "text/plain": [
              "                                                 seq  ... CSTF2\n",
              "0  AGCATGTTAGAGTTCTGATGGCAGTTGTTGTTTATGAATAAGCTTC...  ...   0.0\n",
              "1  AAACATATTCTATTCATTTATTTTATAACTGTTCCCTTGACCTCTT...  ...   0.0\n",
              "2  CCCCACCCACCCCTTTGGAGAGGTGTCCCTCGTAACATTCTGGAGC...  ...   0.0\n",
              "3  CTTGCAGTCTGAGCACGCGTAAGGCTTCTCCCCGGTGTGAGCCCGC...  ...   0.0\n",
              "4  TAATCCACAGTTTCCCAACCTCAGCCCTACTGACACTGGGGCTGGA...  ...   0.0\n",
              "\n",
              "[5 rows x 22 columns]"
            ]
          },
          "metadata": {
            "tags": []
          },
          "execution_count": 4
        }
      ]
    },
    {
      "cell_type": "code",
      "metadata": {
        "id": "hk81KBDAqJll",
        "colab_type": "code",
        "outputId": "bddef25b-d6a4-4c1c-e8a2-641cdafe6742",
        "colab": {
          "base_uri": "https://localhost:8080/",
          "height": 215
        }
      },
      "source": [
        "train.tail()"
      ],
      "execution_count": 5,
      "outputs": [
        {
          "output_type": "execute_result",
          "data": {
            "text/html": [
              "<div>\n",
              "<style scoped>\n",
              "    .dataframe tbody tr th:only-of-type {\n",
              "        vertical-align: middle;\n",
              "    }\n",
              "\n",
              "    .dataframe tbody tr th {\n",
              "        vertical-align: top;\n",
              "    }\n",
              "\n",
              "    .dataframe thead th {\n",
              "        text-align: right;\n",
              "    }\n",
              "</style>\n",
              "<table border=\"1\" class=\"dataframe\">\n",
              "  <thead>\n",
              "    <tr style=\"text-align: right;\">\n",
              "      <th></th>\n",
              "      <th>seq</th>\n",
              "      <th>id</th>\n",
              "      <th>ATXN2</th>\n",
              "      <th>FUS</th>\n",
              "      <th>CPSF6</th>\n",
              "      <th>HNRNPC</th>\n",
              "      <th>NUDT21</th>\n",
              "      <th>ELAVL1</th>\n",
              "      <th>LIN28B</th>\n",
              "      <th>FIP1L1</th>\n",
              "      <th>MOV10</th>\n",
              "      <th>WDR33</th>\n",
              "      <th>CPSF7</th>\n",
              "      <th>YTHDF2</th>\n",
              "      <th>CSTF2T</th>\n",
              "      <th>ZC3H7B</th>\n",
              "      <th>CAPRIN1</th>\n",
              "      <th>CPSF1</th>\n",
              "      <th>CPSF4</th>\n",
              "      <th>CPSF3</th>\n",
              "      <th>TARDBP</th>\n",
              "      <th>CSTF2</th>\n",
              "    </tr>\n",
              "  </thead>\n",
              "  <tbody>\n",
              "    <tr>\n",
              "      <th>194978</th>\n",
              "      <td>TTTTGTTTCCTGTTAATCTTTGTATCTAGGAAAATCTAATCTGCCT...</td>\n",
              "      <td>0</td>\n",
              "      <td>0.0</td>\n",
              "      <td>0.0</td>\n",
              "      <td>0.0</td>\n",
              "      <td>0.0</td>\n",
              "      <td>0.0</td>\n",
              "      <td>0.0</td>\n",
              "      <td>0.0</td>\n",
              "      <td>0.0</td>\n",
              "      <td>0.0</td>\n",
              "      <td>0.0</td>\n",
              "      <td>0.0</td>\n",
              "      <td>0.0</td>\n",
              "      <td>0.0</td>\n",
              "      <td>0.0</td>\n",
              "      <td>0.0</td>\n",
              "      <td>0.0</td>\n",
              "      <td>0.0</td>\n",
              "      <td>0.0</td>\n",
              "      <td>0.0</td>\n",
              "      <td>0.0</td>\n",
              "    </tr>\n",
              "    <tr>\n",
              "      <th>194979</th>\n",
              "      <td>GCCTTTTATGGGCCACTTGCATTAGTGTCCTGATAGAGGCTTAATC...</td>\n",
              "      <td>0</td>\n",
              "      <td>0.0</td>\n",
              "      <td>0.0</td>\n",
              "      <td>0.0</td>\n",
              "      <td>0.0</td>\n",
              "      <td>0.0</td>\n",
              "      <td>0.0</td>\n",
              "      <td>0.0</td>\n",
              "      <td>0.0</td>\n",
              "      <td>0.0</td>\n",
              "      <td>0.0</td>\n",
              "      <td>0.0</td>\n",
              "      <td>0.0</td>\n",
              "      <td>0.0</td>\n",
              "      <td>0.0</td>\n",
              "      <td>0.0</td>\n",
              "      <td>0.0</td>\n",
              "      <td>0.0</td>\n",
              "      <td>0.0</td>\n",
              "      <td>0.0</td>\n",
              "      <td>0.0</td>\n",
              "    </tr>\n",
              "    <tr>\n",
              "      <th>194980</th>\n",
              "      <td>GTCTGTCTTCTGTATATACCCTGTAGATCCGAATTTGTGTAAGGAA...</td>\n",
              "      <td>0</td>\n",
              "      <td>0.0</td>\n",
              "      <td>0.0</td>\n",
              "      <td>0.0</td>\n",
              "      <td>0.0</td>\n",
              "      <td>0.0</td>\n",
              "      <td>0.0</td>\n",
              "      <td>0.0</td>\n",
              "      <td>0.0</td>\n",
              "      <td>0.0</td>\n",
              "      <td>0.0</td>\n",
              "      <td>0.0</td>\n",
              "      <td>0.0</td>\n",
              "      <td>0.0</td>\n",
              "      <td>0.0</td>\n",
              "      <td>0.0</td>\n",
              "      <td>0.0</td>\n",
              "      <td>0.0</td>\n",
              "      <td>0.0</td>\n",
              "      <td>0.0</td>\n",
              "      <td>0.0</td>\n",
              "    </tr>\n",
              "    <tr>\n",
              "      <th>194981</th>\n",
              "      <td>GTTCAGGGTACAGCCAGGTGGGGGAGACAGATCACTATAAAAACCT...</td>\n",
              "      <td>0</td>\n",
              "      <td>0.0</td>\n",
              "      <td>0.0</td>\n",
              "      <td>0.0</td>\n",
              "      <td>0.0</td>\n",
              "      <td>0.0</td>\n",
              "      <td>0.0</td>\n",
              "      <td>0.0</td>\n",
              "      <td>0.0</td>\n",
              "      <td>0.0</td>\n",
              "      <td>0.0</td>\n",
              "      <td>0.0</td>\n",
              "      <td>0.0</td>\n",
              "      <td>0.0</td>\n",
              "      <td>0.0</td>\n",
              "      <td>0.0</td>\n",
              "      <td>0.0</td>\n",
              "      <td>0.0</td>\n",
              "      <td>0.0</td>\n",
              "      <td>0.0</td>\n",
              "      <td>0.0</td>\n",
              "    </tr>\n",
              "    <tr>\n",
              "      <th>194982</th>\n",
              "      <td>ATGTAGCCAAAATCAGCCAGGAGCGGTGGCTCACCCCTGTAATCCC...</td>\n",
              "      <td>0</td>\n",
              "      <td>0.0</td>\n",
              "      <td>0.0</td>\n",
              "      <td>0.0</td>\n",
              "      <td>0.0</td>\n",
              "      <td>0.0</td>\n",
              "      <td>0.0</td>\n",
              "      <td>0.0</td>\n",
              "      <td>0.0</td>\n",
              "      <td>0.0</td>\n",
              "      <td>0.0</td>\n",
              "      <td>0.0</td>\n",
              "      <td>0.0</td>\n",
              "      <td>0.0</td>\n",
              "      <td>0.0</td>\n",
              "      <td>0.0</td>\n",
              "      <td>0.0</td>\n",
              "      <td>0.0</td>\n",
              "      <td>0.0</td>\n",
              "      <td>0.0</td>\n",
              "      <td>0.0</td>\n",
              "    </tr>\n",
              "  </tbody>\n",
              "</table>\n",
              "</div>"
            ],
            "text/plain": [
              "                                                      seq id  ...  TARDBP  CSTF2\n",
              "194978  TTTTGTTTCCTGTTAATCTTTGTATCTAGGAAAATCTAATCTGCCT...  0  ...     0.0    0.0\n",
              "194979  GCCTTTTATGGGCCACTTGCATTAGTGTCCTGATAGAGGCTTAATC...  0  ...     0.0    0.0\n",
              "194980  GTCTGTCTTCTGTATATACCCTGTAGATCCGAATTTGTGTAAGGAA...  0  ...     0.0    0.0\n",
              "194981  GTTCAGGGTACAGCCAGGTGGGGGAGACAGATCACTATAAAAACCT...  0  ...     0.0    0.0\n",
              "194982  ATGTAGCCAAAATCAGCCAGGAGCGGTGGCTCACCCCTGTAATCCC...  0  ...     0.0    0.0\n",
              "\n",
              "[5 rows x 22 columns]"
            ]
          },
          "metadata": {
            "tags": []
          },
          "execution_count": 5
        }
      ]
    },
    {
      "cell_type": "code",
      "metadata": {
        "id": "Swty8I5chexQ",
        "colab_type": "code",
        "outputId": "8440b4b1-3123-4d13-b14f-097dd3a72c20",
        "colab": {
          "base_uri": "https://localhost:8080/",
          "height": 101
        }
      },
      "source": [
        "from collections import Counter\n",
        "train.seq.apply(Counter).sum()"
      ],
      "execution_count": 6,
      "outputs": [
        {
          "output_type": "execute_result",
          "data": {
            "text/plain": [
              "Counter({'A': 10063517,\n",
              "         'C': 8246631,\n",
              "         'G': 8310888,\n",
              "         'N': 1942403,\n",
              "         'T': 10433161})"
            ]
          },
          "metadata": {
            "tags": []
          },
          "execution_count": 6
        }
      ]
    },
    {
      "cell_type": "code",
      "metadata": {
        "id": "B5l2pF0Yev9K",
        "colab_type": "code",
        "colab": {}
      },
      "source": [
        "import torch\n",
        "import torch.nn as nn\n",
        "import torch.nn.functional as F\n",
        "import torch.optim as optim"
      ],
      "execution_count": 0,
      "outputs": []
    },
    {
      "cell_type": "code",
      "metadata": {
        "id": "FrKGbU9ig_pI",
        "colab_type": "code",
        "colab": {}
      },
      "source": [
        "all_letters = \"ATCG\"\n",
        "n_letters = len(all_letters) + 1\n",
        "n_categories = len(train.columns) - 2\n",
        "\n",
        "def seqToTensor(seq):\n",
        "    tensor = torch.zeros(len(seq), 1, n_letters)\n",
        "    for li, letter in enumerate(seq):\n",
        "        tensor[li][0][all_letters.find(letter)] = 1\n",
        "    return tensor"
      ],
      "execution_count": 0,
      "outputs": []
    },
    {
      "cell_type": "code",
      "metadata": {
        "id": "rp1BY7hAh5Cd",
        "colab_type": "code",
        "outputId": "3e0eef04-779d-4158-b855-432324c50364",
        "colab": {
          "base_uri": "https://localhost:8080/",
          "height": 168
        }
      },
      "source": [
        "print(seqToTensor('ATCGN'))"
      ],
      "execution_count": 9,
      "outputs": [
        {
          "output_type": "stream",
          "text": [
            "tensor([[[1., 0., 0., 0., 0.]],\n",
            "\n",
            "        [[0., 1., 0., 0., 0.]],\n",
            "\n",
            "        [[0., 0., 1., 0., 0.]],\n",
            "\n",
            "        [[0., 0., 0., 1., 0.]],\n",
            "\n",
            "        [[0., 0., 0., 0., 1.]]])\n"
          ],
          "name": "stdout"
        }
      ]
    },
    {
      "cell_type": "code",
      "metadata": {
        "id": "XpLKU861sAtK",
        "colab_type": "code",
        "colab": {}
      },
      "source": [
        "import torch.nn as nn\n",
        "\n",
        "class RNN(nn.Module):\n",
        "    def __init__(self, input_size, hidden_size, output_size):\n",
        "        super(RNN, self).__init__()\n",
        "\n",
        "        self.hidden_size = hidden_size\n",
        "\n",
        "        self.i2h = nn.Linear(input_size + hidden_size, hidden_size)\n",
        "        self.i2o = nn.Linear(input_size + hidden_size, output_size)\n",
        "        self.softmax = nn.Softmax(dim=1)\n",
        "\n",
        "    def forward(self, input, hidden):\n",
        "        combined = torch.cat((input, hidden), 1)\n",
        "        hidden = self.i2h(combined)\n",
        "        output = self.i2o(combined)\n",
        "        output = self.softmax(output)\n",
        "        return output, hidden\n",
        "\n",
        "    def initHidden(self):\n",
        "        return torch.zeros(1, self.hidden_size)\n",
        "\n",
        "n_hidden = 32\n",
        "rnn = RNN(n_letters, n_hidden, n_categories)"
      ],
      "execution_count": 0,
      "outputs": []
    },
    {
      "cell_type": "code",
      "metadata": {
        "id": "GXwniZW9erlA",
        "colab_type": "code",
        "colab": {}
      },
      "source": [
        "criterion = nn.BCELoss()\n",
        "learning_rate = 0.001\n",
        "\n",
        "def train_seq(category_tensor, line_tensor):\n",
        "    hidden = rnn.initHidden()\n",
        "\n",
        "    rnn.zero_grad()\n",
        "\n",
        "    for i in range(line_tensor.size()[0]):\n",
        "        output, hidden = rnn(line_tensor[i], hidden)\n",
        "\n",
        "    loss = criterion(output, category_tensor)\n",
        "    loss.backward()\n",
        "\n",
        "    # Add parameters' gradients to their values, multiplied by learning rate\n",
        "    for p in rnn.parameters():\n",
        "        p.data.add_(p.grad.data, alpha=-learning_rate)\n",
        "\n",
        "    return output, loss.item()"
      ],
      "execution_count": 0,
      "outputs": []
    },
    {
      "cell_type": "code",
      "metadata": {
        "id": "k71dXRlpnEKY",
        "colab_type": "code",
        "colab": {
          "base_uri": "https://localhost:8080/",
          "height": 218
        },
        "outputId": "74430941-777c-4c57-fa40-9e8e867ea185"
      },
      "source": [
        "# Keep track of losses for plotting\n",
        "current_loss = 0\n",
        "all_losses = []\n",
        "print_every = 250\n",
        "\n",
        "for index, row in train.iterrows():\n",
        "  sequence = seqToTensor(row.seq)\n",
        "  categories = torch.tensor([row['ATXN2':'CSTF2']])\n",
        "  output, loss = train_seq(categories, sequence)\n",
        "  current_loss += loss\n",
        "\n",
        "  if index % print_every == 0:\n",
        "    print(index, current_loss / print_every)\n",
        "    all_losses.append(current_loss / print_every)\n",
        "    current_loss = 0\n",
        "  if index > 3000:\n",
        "    break"
      ],
      "execution_count": 12,
      "outputs": [
        {
          "output_type": "stream",
          "text": [
            "0 0.0014059231281280517\n",
            "500 0.3789332799911499\n",
            "750 0.37220061707496643\n",
            "1000 0.3779740539193153\n",
            "1250 0.359724068403244\n",
            "1500 0.3644578862786293\n",
            "1750 0.37713719671964646\n",
            "2000 0.3684954831004143\n",
            "2250 0.3643032819032669\n",
            "2500 0.35363364934921265\n",
            "2750 0.35783606332540513\n",
            "3000 0.37170987445116044\n"
          ],
          "name": "stdout"
        }
      ]
    },
    {
      "cell_type": "code",
      "metadata": {
        "id": "r7dS3kNknEIJ",
        "colab_type": "code",
        "colab": {
          "base_uri": "https://localhost:8080/",
          "height": 282
        },
        "outputId": "13100f53-ceb8-409a-ef8d-6077f0e0d998"
      },
      "source": [
        "plt.plot(all_losses[1:])"
      ],
      "execution_count": 13,
      "outputs": [
        {
          "output_type": "execute_result",
          "data": {
            "text/plain": [
              "[<matplotlib.lines.Line2D at 0x7fdb8b1ab400>]"
            ]
          },
          "metadata": {
            "tags": []
          },
          "execution_count": 13
        },
        {
          "output_type": "display_data",
          "data": {
            "image/png": "[encoded data removed]",
            "text/plain": [
              "<Figure size 432x288 with 1 Axes>"
            ]
          },
          "metadata": {
            "tags": [],
            "needs_background": "light"
          }
        }
      ]
    },
    {
      "cell_type": "code",
      "metadata": {
        "id": "pnipz-SAmxHc",
        "colab_type": "code",
        "colab": {}
      },
      "source": [
        "test_true = []\n",
        "test_pred = []\n",
        "for index, row in test.iterrows():\n",
        "  sequence = seqToTensor(row.seq)\n",
        "  categories = torch.tensor([row['ATXN2':'CSTF2']])\n",
        "  test_true.append(categories.numpy()[0])\n",
        "\n",
        "  hidden = rnn.initHidden()\n",
        "  for i in range(sequence.size()[0]):\n",
        "    output, hidden = rnn(sequence[i], hidden)\n",
        "  test_pred.append((output > 0.05).float().numpy()[0])"
      ],
      "execution_count": 0,
      "outputs": []
    },
    {
      "cell_type": "code",
      "metadata": {
        "id": "F15r5lztwYoP",
        "colab_type": "code",
        "colab": {
          "base_uri": "https://localhost:8080/",
          "height": 574
        },
        "outputId": "9c23fab6-48c1-4f9c-db55-f888f5063cfe"
      },
      "source": [
        "from sklearn.metrics import classification_report\n",
        "print(classification_report(test_true, test_pred, target_names=list(test.columns[2:])))"
      ],
      "execution_count": 22,
      "outputs": [
        {
          "output_type": "stream",
          "text": [
            "              precision    recall  f1-score   support\n",
            "\n",
            "       ATXN2       0.23      1.00      0.38      1802\n",
            "         FUS       0.07      0.12      0.09       613\n",
            "      CSTF2T       0.00      0.00      0.00       737\n",
            "       MOV10       0.06      0.42      0.11       560\n",
            "     CAPRIN1       0.05      0.17      0.07       391\n",
            "       WDR33       0.06      0.81      0.11       455\n",
            "      ELAVL1       0.22      0.55      0.32      1684\n",
            "      YTHDF2       0.05      0.84      0.10       389\n",
            "       CPSF6       0.08      0.12      0.09       680\n",
            "      HNRNPC       0.30      0.94      0.45      2316\n",
            "      ZC3H7B       0.05      0.49      0.10       395\n",
            "       CPSF1       0.06      0.47      0.11       453\n",
            "      LIN28B       0.13      0.66      0.22      1003\n",
            "      FIP1L1       0.20      0.10      0.14      1429\n",
            "      NUDT21       0.12      0.00      0.00      1303\n",
            "       CPSF4       0.04      0.12      0.06       381\n",
            "       CPSF7       0.05      0.50      0.09       375\n",
            "       CPSF3       0.06      0.13      0.08       446\n",
            "      TARDBP       0.24      0.37      0.29      1813\n",
            "       CSTF2       0.05      0.44      0.09       444\n",
            "\n",
            "   micro avg       0.13      0.48      0.21     17669\n",
            "   macro avg       0.11      0.41      0.15     17669\n",
            "weighted avg       0.16      0.48      0.21     17669\n",
            " samples avg       0.13      0.32      0.17     17669\n",
            "\n"
          ],
          "name": "stdout"
        },
        {
          "output_type": "stream",
          "text": [
            "/usr/local/lib/python3.6/dist-packages/sklearn/metrics/_classification.py:1272: UndefinedMetricWarning: Precision and F-score are ill-defined and being set to 0.0 in labels with no predicted samples. Use `zero_division` parameter to control this behavior.\n",
            "  _warn_prf(average, modifier, msg_start, len(result))\n",
            "/usr/local/lib/python3.6/dist-packages/sklearn/metrics/_classification.py:1272: UndefinedMetricWarning: Recall and F-score are ill-defined and being set to 0.0 in samples with no true labels. Use `zero_division` parameter to control this behavior.\n",
            "  _warn_prf(average, modifier, msg_start, len(result))\n"
          ],
          "name": "stderr"
        }
      ]
    }
  ]
}