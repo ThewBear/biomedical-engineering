{
  "nbformat": 4,
  "nbformat_minor": 0,
  "metadata": {
    "colab": {
      "name": "McBel.ipynb",
      "provenance": [],
      "collapsed_sections": []
    },
    "kernelspec": {
      "name": "python3",
      "display_name": "Python 3"
    }
  },
  "cells": [
    {
      "cell_type": "code",
      "metadata": {
        "id": "nEfTJ5-vUYK4",
        "colab_type": "code",
        "outputId": "f713b63b-761c-4e96-aea6-28e5b81c9595",
        "colab": {
          "base_uri": "https://localhost:8080/",
          "height": 84
        }
      },
      "source": [
        "!pip install biopython torch"
      ],
      "execution_count": 1,
      "outputs": [
        {
          "output_type": "stream",
          "text": [
            "Requirement already satisfied: biopython in /usr/local/lib/python3.6/dist-packages (1.77)\n",
            "Requirement already satisfied: torch in /usr/local/lib/python3.6/dist-packages (1.5.0+cu101)\n",
            "Requirement already satisfied: numpy in /usr/local/lib/python3.6/dist-packages (from biopython) (1.18.5)\n",
            "Requirement already satisfied: future in /usr/local/lib/python3.6/dist-packages (from torch) (0.16.0)\n"
          ],
          "name": "stdout"
        }
      ]
    },
    {
      "cell_type": "code",
      "metadata": {
        "id": "Yt9oCY04YeTL",
        "colab_type": "code",
        "colab": {}
      },
      "source": [
        "from IPython.display import display, HTML\n",
        "import numpy as np\n",
        "import matplotlib.pyplot as plt\n",
        "import pandas as pd"
      ],
      "execution_count": 0,
      "outputs": []
    },
    {
      "cell_type": "code",
      "metadata": {
        "id": "-gc55thtabMX",
        "colab_type": "code",
        "colab": {}
      },
      "source": [
        "from Bio import SeqIO\n",
        "import re\n",
        "\n",
        "def load_fasta(fname):\n",
        "  parsed = []\n",
        "  for seq in SeqIO.parse(fname, \"fasta\"):\n",
        "    record = { 'seq': str(seq.seq).upper() }\n",
        "    if 'trueSeq' in seq.id:\n",
        "      meta = re.search('::\\w+::(?P<rbps>(?:\\w+(?:///)?)+)::(?P<id>\\w+)', seq.id).groupdict()\n",
        "      rbps = {key: 1 for key in meta['rbps'].split('///')}\n",
        "      record['id'] = meta['id']\n",
        "      record.update(rbps)\n",
        "    parsed.append(record)\n",
        "  return pd.DataFrame(parsed).fillna(0)\n",
        "\n",
        "train = load_fasta('train.txt')\n",
        "valid = load_fasta('valid.txt')[train.columns]\n",
        "test = load_fasta('test.txt')[train.columns]"
      ],
      "execution_count": 0,
      "outputs": []
    },
    {
      "cell_type": "code",
      "metadata": {
        "id": "p0c6S6gFniXT",
        "colab_type": "code",
        "outputId": "8d58cf6b-1dbf-42a8-ff13-e46c3f8670ad",
        "colab": {
          "base_uri": "https://localhost:8080/",
          "height": 215
        }
      },
      "source": [
        "train.head()"
      ],
      "execution_count": 4,
      "outputs": [
        {
          "output_type": "execute_result",
          "data": {
            "text/html": [
              "<div>\n",
              "<style scoped>\n",
              "    .dataframe tbody tr th:only-of-type {\n",
              "        vertical-align: middle;\n",
              "    }\n",
              "\n",
              "    .dataframe tbody tr th {\n",
              "        vertical-align: top;\n",
              "    }\n",
              "\n",
              "    .dataframe thead th {\n",
              "        text-align: right;\n",
              "    }\n",
              "</style>\n",
              "<table border=\"1\" class=\"dataframe\">\n",
              "  <thead>\n",
              "    <tr style=\"text-align: right;\">\n",
              "      <th></th>\n",
              "      <th>seq</th>\n",
              "      <th>id</th>\n",
              "      <th>ATXN2</th>\n",
              "      <th>FUS</th>\n",
              "      <th>CPSF6</th>\n",
              "      <th>HNRNPC</th>\n",
              "      <th>NUDT21</th>\n",
              "      <th>ELAVL1</th>\n",
              "      <th>LIN28B</th>\n",
              "      <th>FIP1L1</th>\n",
              "      <th>MOV10</th>\n",
              "      <th>WDR33</th>\n",
              "      <th>CPSF7</th>\n",
              "      <th>YTHDF2</th>\n",
              "      <th>CSTF2T</th>\n",
              "      <th>ZC3H7B</th>\n",
              "      <th>CAPRIN1</th>\n",
              "      <th>CPSF1</th>\n",
              "      <th>CPSF4</th>\n",
              "      <th>CPSF3</th>\n",
              "      <th>TARDBP</th>\n",
              "      <th>CSTF2</th>\n",
              "    </tr>\n",
              "  </thead>\n",
              "  <tbody>\n",
              "    <tr>\n",
              "      <th>0</th>\n",
              "      <td>AGCATGTTAGAGTTCTGATGGCAGTTGTTGTTTATGAATAAGCTTC...</td>\n",
              "      <td>ENST00000545308</td>\n",
              "      <td>1.0</td>\n",
              "      <td>1.0</td>\n",
              "      <td>0.0</td>\n",
              "      <td>0.0</td>\n",
              "      <td>0.0</td>\n",
              "      <td>0.0</td>\n",
              "      <td>0.0</td>\n",
              "      <td>0.0</td>\n",
              "      <td>0.0</td>\n",
              "      <td>0.0</td>\n",
              "      <td>0.0</td>\n",
              "      <td>0.0</td>\n",
              "      <td>0.0</td>\n",
              "      <td>0.0</td>\n",
              "      <td>0.0</td>\n",
              "      <td>0.0</td>\n",
              "      <td>0.0</td>\n",
              "      <td>0.0</td>\n",
              "      <td>0.0</td>\n",
              "      <td>0.0</td>\n",
              "    </tr>\n",
              "    <tr>\n",
              "      <th>1</th>\n",
              "      <td>AAACATATTCTATTCATTTATTTTATAACTGTTCCCTTGACCTCTT...</td>\n",
              "      <td>ENST00000606457</td>\n",
              "      <td>1.0</td>\n",
              "      <td>0.0</td>\n",
              "      <td>1.0</td>\n",
              "      <td>0.0</td>\n",
              "      <td>0.0</td>\n",
              "      <td>0.0</td>\n",
              "      <td>0.0</td>\n",
              "      <td>0.0</td>\n",
              "      <td>0.0</td>\n",
              "      <td>0.0</td>\n",
              "      <td>0.0</td>\n",
              "      <td>0.0</td>\n",
              "      <td>0.0</td>\n",
              "      <td>0.0</td>\n",
              "      <td>0.0</td>\n",
              "      <td>0.0</td>\n",
              "      <td>0.0</td>\n",
              "      <td>0.0</td>\n",
              "      <td>0.0</td>\n",
              "      <td>0.0</td>\n",
              "    </tr>\n",
              "    <tr>\n",
              "      <th>2</th>\n",
              "      <td>CCCCACCCACCCCTTTGGAGAGGTGTCCCTCGTAACATTCTGGAGC...</td>\n",
              "      <td>ENST00000506172</td>\n",
              "      <td>1.0</td>\n",
              "      <td>0.0</td>\n",
              "      <td>0.0</td>\n",
              "      <td>0.0</td>\n",
              "      <td>0.0</td>\n",
              "      <td>0.0</td>\n",
              "      <td>0.0</td>\n",
              "      <td>0.0</td>\n",
              "      <td>0.0</td>\n",
              "      <td>0.0</td>\n",
              "      <td>0.0</td>\n",
              "      <td>0.0</td>\n",
              "      <td>0.0</td>\n",
              "      <td>0.0</td>\n",
              "      <td>0.0</td>\n",
              "      <td>0.0</td>\n",
              "      <td>0.0</td>\n",
              "      <td>0.0</td>\n",
              "      <td>0.0</td>\n",
              "      <td>0.0</td>\n",
              "    </tr>\n",
              "    <tr>\n",
              "      <th>3</th>\n",
              "      <td>CTTGCAGTCTGAGCACGCGTAAGGCTTCTCCCCGGTGTGAGCCCGC...</td>\n",
              "      <td>ENST00000492040</td>\n",
              "      <td>1.0</td>\n",
              "      <td>0.0</td>\n",
              "      <td>0.0</td>\n",
              "      <td>0.0</td>\n",
              "      <td>0.0</td>\n",
              "      <td>0.0</td>\n",
              "      <td>0.0</td>\n",
              "      <td>0.0</td>\n",
              "      <td>0.0</td>\n",
              "      <td>0.0</td>\n",
              "      <td>0.0</td>\n",
              "      <td>0.0</td>\n",
              "      <td>0.0</td>\n",
              "      <td>0.0</td>\n",
              "      <td>0.0</td>\n",
              "      <td>0.0</td>\n",
              "      <td>0.0</td>\n",
              "      <td>0.0</td>\n",
              "      <td>0.0</td>\n",
              "      <td>0.0</td>\n",
              "    </tr>\n",
              "    <tr>\n",
              "      <th>4</th>\n",
              "      <td>TAATCCACAGTTTCCCAACCTCAGCCCTACTGACACTGGGGCTGGA...</td>\n",
              "      <td>ENST00000572913</td>\n",
              "      <td>1.0</td>\n",
              "      <td>0.0</td>\n",
              "      <td>0.0</td>\n",
              "      <td>0.0</td>\n",
              "      <td>0.0</td>\n",
              "      <td>0.0</td>\n",
              "      <td>0.0</td>\n",
              "      <td>0.0</td>\n",
              "      <td>0.0</td>\n",
              "      <td>0.0</td>\n",
              "      <td>0.0</td>\n",
              "      <td>0.0</td>\n",
              "      <td>0.0</td>\n",
              "      <td>0.0</td>\n",
              "      <td>0.0</td>\n",
              "      <td>0.0</td>\n",
              "      <td>0.0</td>\n",
              "      <td>0.0</td>\n",
              "      <td>0.0</td>\n",
              "      <td>0.0</td>\n",
              "    </tr>\n",
              "  </tbody>\n",
              "</table>\n",
              "</div>"
            ],
            "text/plain": [
              "                                                 seq  ... CSTF2\n",
              "0  AGCATGTTAGAGTTCTGATGGCAGTTGTTGTTTATGAATAAGCTTC...  ...   0.0\n",
              "1  AAACATATTCTATTCATTTATTTTATAACTGTTCCCTTGACCTCTT...  ...   0.0\n",
              "2  CCCCACCCACCCCTTTGGAGAGGTGTCCCTCGTAACATTCTGGAGC...  ...   0.0\n",
              "3  CTTGCAGTCTGAGCACGCGTAAGGCTTCTCCCCGGTGTGAGCCCGC...  ...   0.0\n",
              "4  TAATCCACAGTTTCCCAACCTCAGCCCTACTGACACTGGGGCTGGA...  ...   0.0\n",
              "\n",
              "[5 rows x 22 columns]"
            ]
          },
          "metadata": {
            "tags": []
          },
          "execution_count": 4
        }
      ]
    },
    {
      "cell_type": "code",
      "metadata": {
        "id": "hk81KBDAqJll",
        "colab_type": "code",
        "outputId": "15355dfa-dbc5-4a58-f630-6799ec3da7f8",
        "colab": {
          "base_uri": "https://localhost:8080/",
          "height": 215
        }
      },
      "source": [
        "train.tail()"
      ],
      "execution_count": 5,
      "outputs": [
        {
          "output_type": "execute_result",
          "data": {
            "text/html": [
              "<div>\n",
              "<style scoped>\n",
              "    .dataframe tbody tr th:only-of-type {\n",
              "        vertical-align: middle;\n",
              "    }\n",
              "\n",
              "    .dataframe tbody tr th {\n",
              "        vertical-align: top;\n",
              "    }\n",
              "\n",
              "    .dataframe thead th {\n",
              "        text-align: right;\n",
              "    }\n",
              "</style>\n",
              "<table border=\"1\" class=\"dataframe\">\n",
              "  <thead>\n",
              "    <tr style=\"text-align: right;\">\n",
              "      <th></th>\n",
              "      <th>seq</th>\n",
              "      <th>id</th>\n",
              "      <th>ATXN2</th>\n",
              "      <th>FUS</th>\n",
              "      <th>CPSF6</th>\n",
              "      <th>HNRNPC</th>\n",
              "      <th>NUDT21</th>\n",
              "      <th>ELAVL1</th>\n",
              "      <th>LIN28B</th>\n",
              "      <th>FIP1L1</th>\n",
              "      <th>MOV10</th>\n",
              "      <th>WDR33</th>\n",
              "      <th>CPSF7</th>\n",
              "      <th>YTHDF2</th>\n",
              "      <th>CSTF2T</th>\n",
              "      <th>ZC3H7B</th>\n",
              "      <th>CAPRIN1</th>\n",
              "      <th>CPSF1</th>\n",
              "      <th>CPSF4</th>\n",
              "      <th>CPSF3</th>\n",
              "      <th>TARDBP</th>\n",
              "      <th>CSTF2</th>\n",
              "    </tr>\n",
              "  </thead>\n",
              "  <tbody>\n",
              "    <tr>\n",
              "      <th>194978</th>\n",
              "      <td>TTTTGTTTCCTGTTAATCTTTGTATCTAGGAAAATCTAATCTGCCT...</td>\n",
              "      <td>0</td>\n",
              "      <td>0.0</td>\n",
              "      <td>0.0</td>\n",
              "      <td>0.0</td>\n",
              "      <td>0.0</td>\n",
              "      <td>0.0</td>\n",
              "      <td>0.0</td>\n",
              "      <td>0.0</td>\n",
              "      <td>0.0</td>\n",
              "      <td>0.0</td>\n",
              "      <td>0.0</td>\n",
              "      <td>0.0</td>\n",
              "      <td>0.0</td>\n",
              "      <td>0.0</td>\n",
              "      <td>0.0</td>\n",
              "      <td>0.0</td>\n",
              "      <td>0.0</td>\n",
              "      <td>0.0</td>\n",
              "      <td>0.0</td>\n",
              "      <td>0.0</td>\n",
              "      <td>0.0</td>\n",
              "    </tr>\n",
              "    <tr>\n",
              "      <th>194979</th>\n",
              "      <td>GCCTTTTATGGGCCACTTGCATTAGTGTCCTGATAGAGGCTTAATC...</td>\n",
              "      <td>0</td>\n",
              "      <td>0.0</td>\n",
              "      <td>0.0</td>\n",
              "      <td>0.0</td>\n",
              "      <td>0.0</td>\n",
              "      <td>0.0</td>\n",
              "      <td>0.0</td>\n",
              "      <td>0.0</td>\n",
              "      <td>0.0</td>\n",
              "      <td>0.0</td>\n",
              "      <td>0.0</td>\n",
              "      <td>0.0</td>\n",
              "      <td>0.0</td>\n",
              "      <td>0.0</td>\n",
              "      <td>0.0</td>\n",
              "      <td>0.0</td>\n",
              "      <td>0.0</td>\n",
              "      <td>0.0</td>\n",
              "      <td>0.0</td>\n",
              "      <td>0.0</td>\n",
              "      <td>0.0</td>\n",
              "    </tr>\n",
              "    <tr>\n",
              "      <th>194980</th>\n",
              "      <td>GTCTGTCTTCTGTATATACCCTGTAGATCCGAATTTGTGTAAGGAA...</td>\n",
              "      <td>0</td>\n",
              "      <td>0.0</td>\n",
              "      <td>0.0</td>\n",
              "      <td>0.0</td>\n",
              "      <td>0.0</td>\n",
              "      <td>0.0</td>\n",
              "      <td>0.0</td>\n",
              "      <td>0.0</td>\n",
              "      <td>0.0</td>\n",
              "      <td>0.0</td>\n",
              "      <td>0.0</td>\n",
              "      <td>0.0</td>\n",
              "      <td>0.0</td>\n",
              "      <td>0.0</td>\n",
              "      <td>0.0</td>\n",
              "      <td>0.0</td>\n",
              "      <td>0.0</td>\n",
              "      <td>0.0</td>\n",
              "      <td>0.0</td>\n",
              "      <td>0.0</td>\n",
              "      <td>0.0</td>\n",
              "    </tr>\n",
              "    <tr>\n",
              "      <th>194981</th>\n",
              "      <td>GTTCAGGGTACAGCCAGGTGGGGGAGACAGATCACTATAAAAACCT...</td>\n",
              "      <td>0</td>\n",
              "      <td>0.0</td>\n",
              "      <td>0.0</td>\n",
              "      <td>0.0</td>\n",
              "      <td>0.0</td>\n",
              "      <td>0.0</td>\n",
              "      <td>0.0</td>\n",
              "      <td>0.0</td>\n",
              "      <td>0.0</td>\n",
              "      <td>0.0</td>\n",
              "      <td>0.0</td>\n",
              "      <td>0.0</td>\n",
              "      <td>0.0</td>\n",
              "      <td>0.0</td>\n",
              "      <td>0.0</td>\n",
              "      <td>0.0</td>\n",
              "      <td>0.0</td>\n",
              "      <td>0.0</td>\n",
              "      <td>0.0</td>\n",
              "      <td>0.0</td>\n",
              "      <td>0.0</td>\n",
              "    </tr>\n",
              "    <tr>\n",
              "      <th>194982</th>\n",
              "      <td>ATGTAGCCAAAATCAGCCAGGAGCGGTGGCTCACCCCTGTAATCCC...</td>\n",
              "      <td>0</td>\n",
              "      <td>0.0</td>\n",
              "      <td>0.0</td>\n",
              "      <td>0.0</td>\n",
              "      <td>0.0</td>\n",
              "      <td>0.0</td>\n",
              "      <td>0.0</td>\n",
              "      <td>0.0</td>\n",
              "      <td>0.0</td>\n",
              "      <td>0.0</td>\n",
              "      <td>0.0</td>\n",
              "      <td>0.0</td>\n",
              "      <td>0.0</td>\n",
              "      <td>0.0</td>\n",
              "      <td>0.0</td>\n",
              "      <td>0.0</td>\n",
              "      <td>0.0</td>\n",
              "      <td>0.0</td>\n",
              "      <td>0.0</td>\n",
              "      <td>0.0</td>\n",
              "      <td>0.0</td>\n",
              "    </tr>\n",
              "  </tbody>\n",
              "</table>\n",
              "</div>"
            ],
            "text/plain": [
              "                                                      seq id  ...  TARDBP  CSTF2\n",
              "194978  TTTTGTTTCCTGTTAATCTTTGTATCTAGGAAAATCTAATCTGCCT...  0  ...     0.0    0.0\n",
              "194979  GCCTTTTATGGGCCACTTGCATTAGTGTCCTGATAGAGGCTTAATC...  0  ...     0.0    0.0\n",
              "194980  GTCTGTCTTCTGTATATACCCTGTAGATCCGAATTTGTGTAAGGAA...  0  ...     0.0    0.0\n",
              "194981  GTTCAGGGTACAGCCAGGTGGGGGAGACAGATCACTATAAAAACCT...  0  ...     0.0    0.0\n",
              "194982  ATGTAGCCAAAATCAGCCAGGAGCGGTGGCTCACCCCTGTAATCCC...  0  ...     0.0    0.0\n",
              "\n",
              "[5 rows x 22 columns]"
            ]
          },
          "metadata": {
            "tags": []
          },
          "execution_count": 5
        }
      ]
    },
    {
      "cell_type": "code",
      "metadata": {
        "id": "Swty8I5chexQ",
        "colab_type": "code",
        "outputId": "405d4cd7-e5d2-4799-adb9-5006eb2a1a5d",
        "colab": {
          "base_uri": "https://localhost:8080/",
          "height": 101
        }
      },
      "source": [
        "from collections import Counter\n",
        "train.seq.apply(Counter).sum()"
      ],
      "execution_count": 6,
      "outputs": [
        {
          "output_type": "execute_result",
          "data": {
            "text/plain": [
              "Counter({'A': 10063517,\n",
              "         'C': 8246631,\n",
              "         'G': 8310888,\n",
              "         'N': 1942403,\n",
              "         'T': 10433161})"
            ]
          },
          "metadata": {
            "tags": []
          },
          "execution_count": 6
        }
      ]
    },
    {
      "cell_type": "code",
      "metadata": {
        "id": "B5l2pF0Yev9K",
        "colab_type": "code",
        "colab": {}
      },
      "source": [
        "import torch\n",
        "import torch.nn as nn\n",
        "import torch.nn.functional as F\n",
        "import torch.optim as optim"
      ],
      "execution_count": 0,
      "outputs": []
    },
    {
      "cell_type": "code",
      "metadata": {
        "id": "FrKGbU9ig_pI",
        "colab_type": "code",
        "colab": {}
      },
      "source": [
        "all_letters = \"ATCG\"\n",
        "n_letters = len(all_letters) + 1\n",
        "n_categories = len(train.columns) - 2\n",
        "\n",
        "def seqToTensor(seq):\n",
        "    tensor = torch.zeros(len(seq), 1, n_letters)\n",
        "    for li, letter in enumerate(seq):\n",
        "        tensor[li][0][all_letters.find(letter)] = 1\n",
        "    return tensor"
      ],
      "execution_count": 0,
      "outputs": []
    },
    {
      "cell_type": "code",
      "metadata": {
        "id": "rp1BY7hAh5Cd",
        "colab_type": "code",
        "outputId": "a770ef86-de0a-47ce-e4d6-f8aeb72c8eb6",
        "colab": {
          "base_uri": "https://localhost:8080/",
          "height": 168
        }
      },
      "source": [
        "print(seqToTensor('ATCGN'))"
      ],
      "execution_count": 9,
      "outputs": [
        {
          "output_type": "stream",
          "text": [
            "tensor([[[1., 0., 0., 0., 0.]],\n",
            "\n",
            "        [[0., 1., 0., 0., 0.]],\n",
            "\n",
            "        [[0., 0., 1., 0., 0.]],\n",
            "\n",
            "        [[0., 0., 0., 1., 0.]],\n",
            "\n",
            "        [[0., 0., 0., 0., 1.]]])\n"
          ],
          "name": "stdout"
        }
      ]
    },
    {
      "cell_type": "code",
      "metadata": {
        "id": "XpLKU861sAtK",
        "colab_type": "code",
        "colab": {}
      },
      "source": [
        "import torch.nn as nn\n",
        "\n",
        "class RNN(nn.Module):\n",
        "    def __init__(self, input_size, hidden_size, output_size):\n",
        "        super(RNN, self).__init__()\n",
        "\n",
        "        self.hidden_size = hidden_size\n",
        "\n",
        "        self.i2h = nn.Linear(input_size + hidden_size, hidden_size)\n",
        "        self.i2o = nn.Linear(input_size + hidden_size, output_size)\n",
        "        self.softmax = nn.Softmax(dim=1)\n",
        "\n",
        "    def forward(self, input, hidden):\n",
        "        combined = torch.cat((input, hidden), 1)\n",
        "        hidden = self.i2h(combined)\n",
        "        output = self.i2o(combined)\n",
        "        output = self.softmax(output)\n",
        "        return output, hidden\n",
        "\n",
        "    def initHidden(self):\n",
        "        return torch.zeros(1, self.hidden_size)\n",
        "\n",
        "n_hidden = 64\n",
        "rnn = RNN(n_letters, n_hidden, n_categories)"
      ],
      "execution_count": 0,
      "outputs": []
    },
    {
      "cell_type": "code",
      "metadata": {
        "id": "GXwniZW9erlA",
        "colab_type": "code",
        "colab": {}
      },
      "source": [
        "criterion = nn.BCELoss()\n",
        "learning_rate = 0.001\n",
        "\n",
        "def train_seq(category_tensor, line_tensor):\n",
        "    hidden = rnn.initHidden()\n",
        "\n",
        "    rnn.zero_grad()\n",
        "\n",
        "    for i in range(line_tensor.size()[0]):\n",
        "        output, hidden = rnn(line_tensor[i], hidden)\n",
        "\n",
        "    loss = criterion(output, category_tensor)\n",
        "    loss.backward()\n",
        "\n",
        "    # Add parameters' gradients to their values, multiplied by learning rate\n",
        "    for p in rnn.parameters():\n",
        "        p.data.add_(p.grad.data, alpha=-learning_rate)\n",
        "\n",
        "    return output, loss.item()"
      ],
      "execution_count": 0,
      "outputs": []
    },
    {
      "cell_type": "code",
      "metadata": {
        "id": "k71dXRlpnEKY",
        "colab_type": "code",
        "outputId": "22ee75b9-7806-45e1-d57b-4c2fceeb2fb5",
        "colab": {
          "base_uri": "https://localhost:8080/",
          "height": 370
        }
      },
      "source": [
        "# Keep track of losses for plotting\n",
        "current_loss = 0\n",
        "all_losses = []\n",
        "print_every = 250\n",
        "\n",
        "for index, row in train.iterrows():\n",
        "  sequence = seqToTensor(row.seq)\n",
        "  categories = torch.tensor([row['ATXN2':'CSTF2']])\n",
        "  output, loss = train_seq(categories, sequence)\n",
        "  current_loss += loss\n",
        "\n",
        "  if index % print_every == 0:\n",
        "    print(index, current_loss / print_every)\n",
        "    all_losses.append(current_loss / print_every)\n",
        "    current_loss = 0\n",
        "  if index > 5000:\n",
        "    break"
      ],
      "execution_count": 12,
      "outputs": [
        {
          "output_type": "stream",
          "text": [
            "0 0.0013425416946411133\n",
            "250 0.3859780952334404\n",
            "500 0.38270905655622484\n",
            "750 0.3762984902858734\n",
            "1000 0.3809201622009277\n",
            "1250 0.36144664204120636\n",
            "1500 0.3674119369387627\n",
            "1750 0.37873686814308166\n",
            "2000 0.3694294407963753\n",
            "2250 0.3667854365706444\n",
            "2500 0.3545966547131538\n",
            "2750 0.3581094028949737\n",
            "3000 0.37191909009218216\n",
            "3250 0.37061028641462324\n",
            "3500 0.35078552478551867\n",
            "3750 0.35914399445056916\n",
            "4000 0.34089244759082793\n",
            "4250 0.32666911274194715\n",
            "4500 0.9543394663929939\n",
            "4750 1.1745941360592842\n",
            "5000 1.2357042239308358\n"
          ],
          "name": "stdout"
        }
      ]
    },
    {
      "cell_type": "code",
      "metadata": {
        "id": "r7dS3kNknEIJ",
        "colab_type": "code",
        "outputId": "3d0ff026-7fae-4a2d-9fcf-b0a7e70aba42",
        "colab": {
          "base_uri": "https://localhost:8080/",
          "height": 282
        }
      },
      "source": [
        "plt.plot(all_losses[1:])"
      ],
      "execution_count": 13,
      "outputs": [
        {
          "output_type": "execute_result",
          "data": {
            "text/plain": [
              "[<matplotlib.lines.Line2D at 0x7f965bd6b3c8>]"
            ]
          },
          "metadata": {
            "tags": []
          },
          "execution_count": 13
        },
        {
          "output_type": "display_data",
          "data": {
            "image/png": "[encoded data removed]",
            "text/plain": [
              "<Figure size 432x288 with 1 Axes>"
            ]
          },
          "metadata": {
            "tags": [],
            "needs_background": "light"
          }
        }
      ]
    },
    {
      "cell_type": "code",
      "metadata": {
        "id": "kNan9Ng81k0m",
        "colab_type": "code",
        "colab": {}
      },
      "source": [
        "def predict(data, threshold):\n",
        "  test_true = []\n",
        "  test_pred = []\n",
        "  for index, row in data.iterrows():\n",
        "    sequence = seqToTensor(row.seq)\n",
        "    categories = torch.tensor([row['ATXN2':'CSTF2']])\n",
        "    test_true.append(categories.numpy()[0])\n",
        "\n",
        "    hidden = rnn.initHidden()\n",
        "    for i in range(sequence.size()[0]):\n",
        "      output, hidden = rnn(sequence[i], hidden)\n",
        "    test_pred.append((output > threshold).float().numpy()[0])\n",
        "  return test_true, test_pred"
      ],
      "execution_count": 0,
      "outputs": []
    },
    {
      "cell_type": "code",
      "metadata": {
        "id": "pnipz-SAmxHc",
        "colab_type": "code",
        "colab": {}
      },
      "source": [
        "test_true, test_pred = predict(valid, 0.06)"
      ],
      "execution_count": 0,
      "outputs": []
    },
    {
      "cell_type": "code",
      "metadata": {
        "id": "F15r5lztwYoP",
        "colab_type": "code",
        "outputId": "37b0721b-2040-4fae-b532-4c29b4755b27",
        "colab": {
          "base_uri": "https://localhost:8080/",
          "height": 574
        }
      },
      "source": [
        "from sklearn.metrics import classification_report\n",
        "print(classification_report(test_true, test_pred, target_names=list(test.columns[2:])))"
      ],
      "execution_count": 18,
      "outputs": [
        {
          "output_type": "stream",
          "text": [
            "              precision    recall  f1-score   support\n",
            "\n",
            "       ATXN2       0.23      1.00      0.37       871\n",
            "         FUS       0.10      0.17      0.13       281\n",
            "       CPSF6       0.00      0.00      0.00       319\n",
            "      HNRNPC       0.25      0.23      0.24      1120\n",
            "      NUDT21       0.00      0.00      0.00       625\n",
            "      ELAVL1       0.27      0.03      0.06       864\n",
            "      LIN28B       0.11      0.07      0.09       502\n",
            "      FIP1L1       0.22      0.05      0.08       682\n",
            "       MOV10       0.00      0.00      0.00       282\n",
            "       WDR33       0.00      0.00      0.00       221\n",
            "       CPSF7       0.00      0.00      0.00       191\n",
            "      YTHDF2       0.00      0.00      0.00       169\n",
            "      CSTF2T       0.00      0.00      0.00       359\n",
            "      ZC3H7B       0.00      0.00      0.00       169\n",
            "     CAPRIN1       0.00      0.00      0.00       184\n",
            "       CPSF1       0.00      0.00      0.00       221\n",
            "       CPSF4       0.00      0.00      0.00       197\n",
            "       CPSF3       0.00      0.00      0.00       221\n",
            "      TARDBP       0.00      0.00      0.00       925\n",
            "       CSTF2       0.00      0.00      0.00       222\n",
            "\n",
            "   micro avg       0.21      0.15      0.18      8625\n",
            "   macro avg       0.06      0.08      0.05      8625\n",
            "weighted avg       0.11      0.15      0.09      8625\n",
            " samples avg       0.22      0.10      0.12      8625\n",
            "\n"
          ],
          "name": "stdout"
        },
        {
          "output_type": "stream",
          "text": [
            "/usr/local/lib/python3.6/dist-packages/sklearn/metrics/_classification.py:1272: UndefinedMetricWarning: Precision and F-score are ill-defined and being set to 0.0 in labels with no predicted samples. Use `zero_division` parameter to control this behavior.\n",
            "  _warn_prf(average, modifier, msg_start, len(result))\n",
            "/usr/local/lib/python3.6/dist-packages/sklearn/metrics/_classification.py:1272: UndefinedMetricWarning: Recall and F-score are ill-defined and being set to 0.0 in samples with no true labels. Use `zero_division` parameter to control this behavior.\n",
            "  _warn_prf(average, modifier, msg_start, len(result))\n"
          ],
          "name": "stderr"
        }
      ]
    }
  ]
}